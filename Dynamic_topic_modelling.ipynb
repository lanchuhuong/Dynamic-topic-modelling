{
 "cells": [
  {
   "cell_type": "code",
   "execution_count": 1,
   "metadata": {},
   "outputs": [],
   "source": [
    "import os\n",
    "import pandas as pd\n",
    "import numpy as np\n",
    "import matplotlib.pyplot as plt\n",
    "from matplotlib.pyplot import cm\n",
    "from IPython.display import display, HTML\n",
    "import logging\n",
    "import tomotopy as tp\n",
    "from ast import literal_eval\n",
    "from pyvis.network import Network\n",
    "from datetime import datetime as dt\n",
    "import plotly.graph_objs as go\n",
    "from plotly.subplots import make_subplots\n",
    "import plotly.offline as pyo\n",
    "from scipy.interpolate import make_interp_spline\n",
    "\n",
    "logging.basicConfig(\n",
    "    format=\"%(asctime)s : %(levelname)s : %(message)s\", level=logging.INFO\n",
    ")\n"
   ]
  },
  {
   "cell_type": "code",
   "execution_count": 2,
   "metadata": {},
   "outputs": [
    {
     "data": {
      "text/html": [
       "<div>\n",
       "<style scoped>\n",
       "    .dataframe tbody tr th:only-of-type {\n",
       "        vertical-align: middle;\n",
       "    }\n",
       "\n",
       "    .dataframe tbody tr th {\n",
       "        vertical-align: top;\n",
       "    }\n",
       "\n",
       "    .dataframe thead th {\n",
       "        text-align: right;\n",
       "    }\n",
       "</style>\n",
       "<table border=\"1\" class=\"dataframe\">\n",
       "  <thead>\n",
       "    <tr style=\"text-align: right;\">\n",
       "      <th></th>\n",
       "      <th>session_nr</th>\n",
       "      <th>year</th>\n",
       "      <th>country</th>\n",
       "      <th>Text</th>\n",
       "      <th>Tokens</th>\n",
       "      <th>Joined_Tokens</th>\n",
       "      <th>Global Code</th>\n",
       "      <th>Global Name</th>\n",
       "      <th>Region Code</th>\n",
       "      <th>Region Name</th>\n",
       "      <th>...</th>\n",
       "      <th>Developed / Developing Countries</th>\n",
       "      <th>Life Ladder</th>\n",
       "      <th>Log GDP per capita</th>\n",
       "      <th>Social support</th>\n",
       "      <th>Healthy life expectancy at birth</th>\n",
       "      <th>Freedom to make life choices</th>\n",
       "      <th>Generosity</th>\n",
       "      <th>Perceptions of corruption</th>\n",
       "      <th>Positive affect</th>\n",
       "      <th>Negative affect</th>\n",
       "    </tr>\n",
       "  </thead>\n",
       "  <tbody>\n",
       "    <tr>\n",
       "      <th>8493</th>\n",
       "      <td>75</td>\n",
       "      <td>2020</td>\n",
       "      <td>JOR</td>\n",
       "      <td>in the name of god, the compassionate, the mer...</td>\n",
       "      <td>[name, god, compassionate, merciful, secretary...</td>\n",
       "      <td>name god compassionate merciful secretary inde...</td>\n",
       "      <td>1.0</td>\n",
       "      <td>World</td>\n",
       "      <td>142.0</td>\n",
       "      <td>Asia</td>\n",
       "      <td>...</td>\n",
       "      <td>Developing</td>\n",
       "      <td>4.093992</td>\n",
       "      <td>9.149995</td>\n",
       "      <td>0.708840</td>\n",
       "      <td>67.199997</td>\n",
       "      <td>0.778533</td>\n",
       "      <td>-0.149826</td>\n",
       "      <td>NaN</td>\n",
       "      <td>NaN</td>\n",
       "      <td>NaN</td>\n",
       "    </tr>\n",
       "    <tr>\n",
       "      <th>8494</th>\n",
       "      <td>75</td>\n",
       "      <td>2020</td>\n",
       "      <td>BRB</td>\n",
       "      <td>your excellency, mr. volkan bozkir, i congratu...</td>\n",
       "      <td>[volkan, bozkir, congratulate, turkey, electio...</td>\n",
       "      <td>volkan bozkir congratulate turkey election pre...</td>\n",
       "      <td>1.0</td>\n",
       "      <td>World</td>\n",
       "      <td>19.0</td>\n",
       "      <td>Americas</td>\n",
       "      <td>...</td>\n",
       "      <td>Developing</td>\n",
       "      <td>NaN</td>\n",
       "      <td>NaN</td>\n",
       "      <td>NaN</td>\n",
       "      <td>NaN</td>\n",
       "      <td>NaN</td>\n",
       "      <td>NaN</td>\n",
       "      <td>NaN</td>\n",
       "      <td>NaN</td>\n",
       "      <td>NaN</td>\n",
       "    </tr>\n",
       "    <tr>\n",
       "      <th>8495</th>\n",
       "      <td>75</td>\n",
       "      <td>2020</td>\n",
       "      <td>GBR</td>\n",
       "      <td>never in the history of our species — not sinc...</td>\n",
       "      <td>[never, history, specie, since, almighty, fell...</td>\n",
       "      <td>never history specie since almighty fell tower...</td>\n",
       "      <td>1.0</td>\n",
       "      <td>World</td>\n",
       "      <td>150.0</td>\n",
       "      <td>Europe</td>\n",
       "      <td>...</td>\n",
       "      <td>Developed</td>\n",
       "      <td>6.798177</td>\n",
       "      <td>10.625811</td>\n",
       "      <td>0.929353</td>\n",
       "      <td>72.699997</td>\n",
       "      <td>0.884624</td>\n",
       "      <td>0.202508</td>\n",
       "      <td>0.490204</td>\n",
       "      <td>0.758164</td>\n",
       "      <td>0.224655</td>\n",
       "    </tr>\n",
       "    <tr>\n",
       "      <th>8496</th>\n",
       "      <td>75</td>\n",
       "      <td>2020</td>\n",
       "      <td>MCO</td>\n",
       "      <td>mr. president of the general assembly,\\nmr. se...</td>\n",
       "      <td>[lady, gentleman, head, government, lady, gent...</td>\n",
       "      <td>lady gentleman head government lady gentleman ...</td>\n",
       "      <td>1.0</td>\n",
       "      <td>World</td>\n",
       "      <td>150.0</td>\n",
       "      <td>Europe</td>\n",
       "      <td>...</td>\n",
       "      <td>Developed</td>\n",
       "      <td>NaN</td>\n",
       "      <td>NaN</td>\n",
       "      <td>NaN</td>\n",
       "      <td>NaN</td>\n",
       "      <td>NaN</td>\n",
       "      <td>NaN</td>\n",
       "      <td>NaN</td>\n",
       "      <td>NaN</td>\n",
       "      <td>NaN</td>\n",
       "    </tr>\n",
       "    <tr>\n",
       "      <th>8497</th>\n",
       "      <td>75</td>\n",
       "      <td>2020</td>\n",
       "      <td>BHR</td>\n",
       "      <td>in the name of allah, the most gracious, the m...</td>\n",
       "      <td>[name, allah, gracious, merciful, peace, mercy...</td>\n",
       "      <td>name allah gracious merciful peace mercy bless...</td>\n",
       "      <td>1.0</td>\n",
       "      <td>World</td>\n",
       "      <td>142.0</td>\n",
       "      <td>Asia</td>\n",
       "      <td>...</td>\n",
       "      <td>Developing</td>\n",
       "      <td>6.173176</td>\n",
       "      <td>10.619904</td>\n",
       "      <td>0.847745</td>\n",
       "      <td>69.699997</td>\n",
       "      <td>0.945233</td>\n",
       "      <td>0.132441</td>\n",
       "      <td>NaN</td>\n",
       "      <td>0.789795</td>\n",
       "      <td>0.296835</td>\n",
       "    </tr>\n",
       "  </tbody>\n",
       "</table>\n",
       "<p>5 rows × 31 columns</p>\n",
       "</div>"
      ],
      "text/plain": [
       "      session_nr  year country  \\\n",
       "8493          75  2020     JOR   \n",
       "8494          75  2020     BRB   \n",
       "8495          75  2020     GBR   \n",
       "8496          75  2020     MCO   \n",
       "8497          75  2020     BHR   \n",
       "\n",
       "                                                   Text  \\\n",
       "8493  in the name of god, the compassionate, the mer...   \n",
       "8494  your excellency, mr. volkan bozkir, i congratu...   \n",
       "8495  never in the history of our species — not sinc...   \n",
       "8496  mr. president of the general assembly,\\nmr. se...   \n",
       "8497  in the name of allah, the most gracious, the m...   \n",
       "\n",
       "                                                 Tokens  \\\n",
       "8493  [name, god, compassionate, merciful, secretary...   \n",
       "8494  [volkan, bozkir, congratulate, turkey, electio...   \n",
       "8495  [never, history, specie, since, almighty, fell...   \n",
       "8496  [lady, gentleman, head, government, lady, gent...   \n",
       "8497  [name, allah, gracious, merciful, peace, mercy...   \n",
       "\n",
       "                                          Joined_Tokens  Global Code  \\\n",
       "8493  name god compassionate merciful secretary inde...          1.0   \n",
       "8494  volkan bozkir congratulate turkey election pre...          1.0   \n",
       "8495  never history specie since almighty fell tower...          1.0   \n",
       "8496  lady gentleman head government lady gentleman ...          1.0   \n",
       "8497  name allah gracious merciful peace mercy bless...          1.0   \n",
       "\n",
       "     Global Name  Region Code Region Name  ...  \\\n",
       "8493       World        142.0        Asia  ...   \n",
       "8494       World         19.0    Americas  ...   \n",
       "8495       World        150.0      Europe  ...   \n",
       "8496       World        150.0      Europe  ...   \n",
       "8497       World        142.0        Asia  ...   \n",
       "\n",
       "      Developed / Developing Countries Life Ladder  Log GDP per capita  \\\n",
       "8493                        Developing    4.093992            9.149995   \n",
       "8494                        Developing         NaN                 NaN   \n",
       "8495                         Developed    6.798177           10.625811   \n",
       "8496                         Developed         NaN                 NaN   \n",
       "8497                        Developing    6.173176           10.619904   \n",
       "\n",
       "     Social support Healthy life expectancy at birth  \\\n",
       "8493       0.708840                        67.199997   \n",
       "8494            NaN                              NaN   \n",
       "8495       0.929353                        72.699997   \n",
       "8496            NaN                              NaN   \n",
       "8497       0.847745                        69.699997   \n",
       "\n",
       "      Freedom to make life choices Generosity Perceptions of corruption  \\\n",
       "8493                      0.778533  -0.149826                       NaN   \n",
       "8494                           NaN        NaN                       NaN   \n",
       "8495                      0.884624   0.202508                  0.490204   \n",
       "8496                           NaN        NaN                       NaN   \n",
       "8497                      0.945233   0.132441                       NaN   \n",
       "\n",
       "     Positive affect Negative affect  \n",
       "8493             NaN             NaN  \n",
       "8494             NaN             NaN  \n",
       "8495        0.758164        0.224655  \n",
       "8496             NaN             NaN  \n",
       "8497        0.789795        0.296835  \n",
       "\n",
       "[5 rows x 31 columns]"
      ]
     },
     "execution_count": 2,
     "metadata": {},
     "output_type": "execute_result"
    }
   ],
   "source": [
    "# Load UN preprocessed speech\n",
    "speech = pd.read_csv(\n",
    "    \"Data/Processed/preprocessed_speech.csv\",\n",
    "    index_col=0,\n",
    "    converters={\"Tokens\": literal_eval},\n",
    ")\n",
    "speech.tail()\n"
   ]
  },
  {
   "attachments": {},
   "cell_type": "markdown",
   "metadata": {},
   "source": [
    "<h2><center> Dynamic topic modelling <h2><center>"
   ]
  },
  {
   "cell_type": "code",
   "execution_count": 3,
   "metadata": {},
   "outputs": [
    {
     "data": {
      "text/html": [
       "<div>\n",
       "<style scoped>\n",
       "    .dataframe tbody tr th:only-of-type {\n",
       "        vertical-align: middle;\n",
       "    }\n",
       "\n",
       "    .dataframe tbody tr th {\n",
       "        vertical-align: top;\n",
       "    }\n",
       "\n",
       "    .dataframe thead th {\n",
       "        text-align: right;\n",
       "    }\n",
       "</style>\n",
       "<table border=\"1\" class=\"dataframe\">\n",
       "  <thead>\n",
       "    <tr style=\"text-align: right;\">\n",
       "      <th></th>\n",
       "      <th>session_nr</th>\n",
       "      <th>year</th>\n",
       "      <th>country</th>\n",
       "      <th>Text</th>\n",
       "      <th>Tokens</th>\n",
       "      <th>Joined_Tokens</th>\n",
       "      <th>Global Code</th>\n",
       "      <th>Global Name</th>\n",
       "      <th>Region Code</th>\n",
       "      <th>Region Name</th>\n",
       "      <th>...</th>\n",
       "      <th>Developed / Developing Countries</th>\n",
       "      <th>Life Ladder</th>\n",
       "      <th>Log GDP per capita</th>\n",
       "      <th>Social support</th>\n",
       "      <th>Healthy life expectancy at birth</th>\n",
       "      <th>Freedom to make life choices</th>\n",
       "      <th>Generosity</th>\n",
       "      <th>Perceptions of corruption</th>\n",
       "      <th>Positive affect</th>\n",
       "      <th>Negative affect</th>\n",
       "    </tr>\n",
       "  </thead>\n",
       "  <tbody>\n",
       "    <tr>\n",
       "      <th>0</th>\n",
       "      <td>55</td>\n",
       "      <td>2000</td>\n",
       "      <td>USA</td>\n",
       "      <td>i am\\nhonoured to address the assembly on beha...</td>\n",
       "      <td>[honour, address, behalf, reinforce, eloquent,...</td>\n",
       "      <td>honour address behalf reinforce eloquent messa...</td>\n",
       "      <td>1.0</td>\n",
       "      <td>World</td>\n",
       "      <td>19.0</td>\n",
       "      <td>Americas</td>\n",
       "      <td>...</td>\n",
       "      <td>Developed</td>\n",
       "      <td>NaN</td>\n",
       "      <td>NaN</td>\n",
       "      <td>NaN</td>\n",
       "      <td>NaN</td>\n",
       "      <td>NaN</td>\n",
       "      <td>NaN</td>\n",
       "      <td>NaN</td>\n",
       "      <td>NaN</td>\n",
       "      <td>NaN</td>\n",
       "    </tr>\n",
       "    <tr>\n",
       "      <th>1</th>\n",
       "      <td>56</td>\n",
       "      <td>2001</td>\n",
       "      <td>USA</td>\n",
       "      <td>we meet in a hall devoted to\\npeace; in a city...</td>\n",
       "      <td>[meet, hall, devote, peace, city, scar, violen...</td>\n",
       "      <td>meet hall devote peace city scar violence nati...</td>\n",
       "      <td>1.0</td>\n",
       "      <td>World</td>\n",
       "      <td>19.0</td>\n",
       "      <td>Americas</td>\n",
       "      <td>...</td>\n",
       "      <td>Developed</td>\n",
       "      <td>NaN</td>\n",
       "      <td>NaN</td>\n",
       "      <td>NaN</td>\n",
       "      <td>NaN</td>\n",
       "      <td>NaN</td>\n",
       "      <td>NaN</td>\n",
       "      <td>NaN</td>\n",
       "      <td>NaN</td>\n",
       "      <td>NaN</td>\n",
       "    </tr>\n",
       "    <tr>\n",
       "      <th>2</th>\n",
       "      <td>57</td>\n",
       "      <td>2002</td>\n",
       "      <td>USA</td>\n",
       "      <td>we meet one year and one day\\nafter a terroris...</td>\n",
       "      <td>[meet, day, terrorist, attack, brought, grief,...</td>\n",
       "      <td>meet day terrorist attack brought grief brough...</td>\n",
       "      <td>1.0</td>\n",
       "      <td>World</td>\n",
       "      <td>19.0</td>\n",
       "      <td>Americas</td>\n",
       "      <td>...</td>\n",
       "      <td>Developed</td>\n",
       "      <td>NaN</td>\n",
       "      <td>NaN</td>\n",
       "      <td>NaN</td>\n",
       "      <td>NaN</td>\n",
       "      <td>NaN</td>\n",
       "      <td>NaN</td>\n",
       "      <td>NaN</td>\n",
       "      <td>NaN</td>\n",
       "      <td>NaN</td>\n",
       "    </tr>\n",
       "    <tr>\n",
       "      <th>3</th>\n",
       "      <td>58</td>\n",
       "      <td>2003</td>\n",
       "      <td>USA</td>\n",
       "      <td>twenty-four months ago, and\\nyesterday in the ...</td>\n",
       "      <td>[month, yesterday, memory, america, centre, yo...</td>\n",
       "      <td>month yesterday memory america centre york cit...</td>\n",
       "      <td>1.0</td>\n",
       "      <td>World</td>\n",
       "      <td>19.0</td>\n",
       "      <td>Americas</td>\n",
       "      <td>...</td>\n",
       "      <td>Developed</td>\n",
       "      <td>NaN</td>\n",
       "      <td>NaN</td>\n",
       "      <td>NaN</td>\n",
       "      <td>NaN</td>\n",
       "      <td>NaN</td>\n",
       "      <td>NaN</td>\n",
       "      <td>NaN</td>\n",
       "      <td>NaN</td>\n",
       "      <td>NaN</td>\n",
       "    </tr>\n",
       "    <tr>\n",
       "      <th>4</th>\n",
       "      <td>59</td>\n",
       "      <td>2004</td>\n",
       "      <td>USA</td>\n",
       "      <td>thank you for the honour of\\naddressing the ge...</td>\n",
       "      <td>[honour, address, american, respect, idealism,...</td>\n",
       "      <td>honour address american respect idealism life ...</td>\n",
       "      <td>1.0</td>\n",
       "      <td>World</td>\n",
       "      <td>19.0</td>\n",
       "      <td>Americas</td>\n",
       "      <td>...</td>\n",
       "      <td>Developed</td>\n",
       "      <td>NaN</td>\n",
       "      <td>NaN</td>\n",
       "      <td>NaN</td>\n",
       "      <td>NaN</td>\n",
       "      <td>NaN</td>\n",
       "      <td>NaN</td>\n",
       "      <td>NaN</td>\n",
       "      <td>NaN</td>\n",
       "      <td>NaN</td>\n",
       "    </tr>\n",
       "    <tr>\n",
       "      <th>5</th>\n",
       "      <td>60</td>\n",
       "      <td>2005</td>\n",
       "      <td>USA</td>\n",
       "      <td>on behalf\\nof president bush and all of the a...</td>\n",
       "      <td>[behalf, bush, american, york, city, aftermath...</td>\n",
       "      <td>behalf bush american york city aftermath hurri...</td>\n",
       "      <td>1.0</td>\n",
       "      <td>World</td>\n",
       "      <td>19.0</td>\n",
       "      <td>Americas</td>\n",
       "      <td>...</td>\n",
       "      <td>Developed</td>\n",
       "      <td>NaN</td>\n",
       "      <td>NaN</td>\n",
       "      <td>NaN</td>\n",
       "      <td>NaN</td>\n",
       "      <td>NaN</td>\n",
       "      <td>NaN</td>\n",
       "      <td>NaN</td>\n",
       "      <td>NaN</td>\n",
       "      <td>NaN</td>\n",
       "    </tr>\n",
       "    <tr>\n",
       "      <th>6</th>\n",
       "      <td>61</td>\n",
       "      <td>2006</td>\n",
       "      <td>USA</td>\n",
       "      <td>i am grateful for the privilege of \\nspeaking ...</td>\n",
       "      <td>[grateful, privilege, speak, week, america, ma...</td>\n",
       "      <td>grateful privilege speak week america marked f...</td>\n",
       "      <td>1.0</td>\n",
       "      <td>World</td>\n",
       "      <td>19.0</td>\n",
       "      <td>Americas</td>\n",
       "      <td>...</td>\n",
       "      <td>Developed</td>\n",
       "      <td>7.181794</td>\n",
       "      <td>10.923974</td>\n",
       "      <td>0.964572</td>\n",
       "      <td>68.059998</td>\n",
       "      <td>0.911496</td>\n",
       "      <td>NaN</td>\n",
       "      <td>0.600309</td>\n",
       "      <td>0.827417</td>\n",
       "      <td>0.260511</td>\n",
       "    </tr>\n",
       "    <tr>\n",
       "      <th>7</th>\n",
       "      <td>62</td>\n",
       "      <td>2007</td>\n",
       "      <td>USA</td>\n",
       "      <td>thank you for the opportunity \\nto address the...</td>\n",
       "      <td>[opportunity, address, nation, sixty, represen...</td>\n",
       "      <td>opportunity address nation sixty representativ...</td>\n",
       "      <td>1.0</td>\n",
       "      <td>World</td>\n",
       "      <td>19.0</td>\n",
       "      <td>Americas</td>\n",
       "      <td>...</td>\n",
       "      <td>Developed</td>\n",
       "      <td>7.512688</td>\n",
       "      <td>10.933051</td>\n",
       "      <td>NaN</td>\n",
       "      <td>68.220001</td>\n",
       "      <td>0.871904</td>\n",
       "      <td>0.197084</td>\n",
       "      <td>0.633035</td>\n",
       "      <td>0.828503</td>\n",
       "      <td>0.231679</td>\n",
       "    </tr>\n",
       "    <tr>\n",
       "      <th>8</th>\n",
       "      <td>63</td>\n",
       "      <td>2008</td>\n",
       "      <td>USA</td>\n",
       "      <td>i am pleased to be here to \\naddress the gener...</td>\n",
       "      <td>[address, representative, around, gather, san,...</td>\n",
       "      <td>address representative around gather san franc...</td>\n",
       "      <td>1.0</td>\n",
       "      <td>World</td>\n",
       "      <td>19.0</td>\n",
       "      <td>Americas</td>\n",
       "      <td>...</td>\n",
       "      <td>Developed</td>\n",
       "      <td>7.280386</td>\n",
       "      <td>10.922226</td>\n",
       "      <td>0.952587</td>\n",
       "      <td>68.379997</td>\n",
       "      <td>0.877956</td>\n",
       "      <td>0.254692</td>\n",
       "      <td>0.668495</td>\n",
       "      <td>0.871968</td>\n",
       "      <td>0.226823</td>\n",
       "    </tr>\n",
       "    <tr>\n",
       "      <th>9</th>\n",
       "      <td>64</td>\n",
       "      <td>2009</td>\n",
       "      <td>USA</td>\n",
       "      <td>it is my honour to address the \\nassembly for ...</td>\n",
       "      <td>[honour, address, humble, responsibility, amer...</td>\n",
       "      <td>honour address humble responsibility american ...</td>\n",
       "      <td>1.0</td>\n",
       "      <td>World</td>\n",
       "      <td>19.0</td>\n",
       "      <td>Americas</td>\n",
       "      <td>...</td>\n",
       "      <td>Developed</td>\n",
       "      <td>7.158032</td>\n",
       "      <td>10.887765</td>\n",
       "      <td>0.911794</td>\n",
       "      <td>68.540001</td>\n",
       "      <td>0.830684</td>\n",
       "      <td>0.200643</td>\n",
       "      <td>0.665394</td>\n",
       "      <td>0.843484</td>\n",
       "      <td>0.261661</td>\n",
       "    </tr>\n",
       "    <tr>\n",
       "      <th>10</th>\n",
       "      <td>65</td>\n",
       "      <td>2010</td>\n",
       "      <td>USA</td>\n",
       "      <td>it is a great honour to address \\nthis assembl...</td>\n",
       "      <td>[great, honour, address, nearly, election, ord...</td>\n",
       "      <td>great honour address nearly election ordinary ...</td>\n",
       "      <td>1.0</td>\n",
       "      <td>World</td>\n",
       "      <td>19.0</td>\n",
       "      <td>Americas</td>\n",
       "      <td>...</td>\n",
       "      <td>Developed</td>\n",
       "      <td>7.163616</td>\n",
       "      <td>10.904800</td>\n",
       "      <td>0.926159</td>\n",
       "      <td>68.699997</td>\n",
       "      <td>0.828044</td>\n",
       "      <td>0.243921</td>\n",
       "      <td>0.689583</td>\n",
       "      <td>0.860642</td>\n",
       "      <td>0.231053</td>\n",
       "    </tr>\n",
       "    <tr>\n",
       "      <th>11</th>\n",
       "      <td>66</td>\n",
       "      <td>2011</td>\n",
       "      <td>USA</td>\n",
       "      <td>it is a great honour for me to \\nbe here today...</td>\n",
       "      <td>[great, honour, subject, heart, nation, pursui...</td>\n",
       "      <td>great honour subject heart nation pursuit peac...</td>\n",
       "      <td>1.0</td>\n",
       "      <td>World</td>\n",
       "      <td>19.0</td>\n",
       "      <td>Americas</td>\n",
       "      <td>...</td>\n",
       "      <td>Developed</td>\n",
       "      <td>7.115139</td>\n",
       "      <td>10.912990</td>\n",
       "      <td>0.921705</td>\n",
       "      <td>68.680000</td>\n",
       "      <td>0.863202</td>\n",
       "      <td>0.160684</td>\n",
       "      <td>0.696926</td>\n",
       "      <td>0.836360</td>\n",
       "      <td>0.273379</td>\n",
       "    </tr>\n",
       "    <tr>\n",
       "      <th>12</th>\n",
       "      <td>67</td>\n",
       "      <td>2012</td>\n",
       "      <td>USA</td>\n",
       "      <td>i would like to begin today by\\ntelling the as...</td>\n",
       "      <td>[american, name, chris, stevens, chris, born, ...</td>\n",
       "      <td>american name chris stevens chris born town ca...</td>\n",
       "      <td>1.0</td>\n",
       "      <td>World</td>\n",
       "      <td>19.0</td>\n",
       "      <td>Americas</td>\n",
       "      <td>...</td>\n",
       "      <td>Developed</td>\n",
       "      <td>7.026227</td>\n",
       "      <td>10.927963</td>\n",
       "      <td>0.903192</td>\n",
       "      <td>68.660004</td>\n",
       "      <td>0.822662</td>\n",
       "      <td>0.214699</td>\n",
       "      <td>0.710034</td>\n",
       "      <td>0.833771</td>\n",
       "      <td>0.259644</td>\n",
       "    </tr>\n",
       "    <tr>\n",
       "      <th>13</th>\n",
       "      <td>68</td>\n",
       "      <td>2013</td>\n",
       "      <td>USA</td>\n",
       "      <td>each year we come together to \\nreaffirm the f...</td>\n",
       "      <td>[reaffirm, found, vision, institution, record,...</td>\n",
       "      <td>reaffirm found vision institution record histo...</td>\n",
       "      <td>1.0</td>\n",
       "      <td>World</td>\n",
       "      <td>19.0</td>\n",
       "      <td>Americas</td>\n",
       "      <td>...</td>\n",
       "      <td>Developed</td>\n",
       "      <td>7.249285</td>\n",
       "      <td>10.939349</td>\n",
       "      <td>0.925397</td>\n",
       "      <td>68.639999</td>\n",
       "      <td>0.792256</td>\n",
       "      <td>0.273915</td>\n",
       "      <td>0.746894</td>\n",
       "      <td>0.813678</td>\n",
       "      <td>0.260328</td>\n",
       "    </tr>\n",
       "    <tr>\n",
       "      <th>14</th>\n",
       "      <td>69</td>\n",
       "      <td>2014</td>\n",
       "      <td>USA</td>\n",
       "      <td>we come together at a \\ncrossroads between war...</td>\n",
       "      <td>[crossroad, war, peace, disorder, integration,...</td>\n",
       "      <td>crossroad war peace disorder integration fear ...</td>\n",
       "      <td>1.0</td>\n",
       "      <td>World</td>\n",
       "      <td>19.0</td>\n",
       "      <td>Americas</td>\n",
       "      <td>...</td>\n",
       "      <td>Developed</td>\n",
       "      <td>7.151114</td>\n",
       "      <td>10.956298</td>\n",
       "      <td>0.902097</td>\n",
       "      <td>68.620003</td>\n",
       "      <td>0.866077</td>\n",
       "      <td>0.221340</td>\n",
       "      <td>0.702267</td>\n",
       "      <td>0.834294</td>\n",
       "      <td>0.281265</td>\n",
       "    </tr>\n",
       "    <tr>\n",
       "      <th>15</th>\n",
       "      <td>70</td>\n",
       "      <td>2015</td>\n",
       "      <td>USA</td>\n",
       "      <td>seventy years after the founding of the united...</td>\n",
       "      <td>[seventy, found, nation, worth, reflect, body,...</td>\n",
       "      <td>seventy found nation worth reflect body work h...</td>\n",
       "      <td>1.0</td>\n",
       "      <td>World</td>\n",
       "      <td>19.0</td>\n",
       "      <td>Americas</td>\n",
       "      <td>...</td>\n",
       "      <td>Developed</td>\n",
       "      <td>6.863947</td>\n",
       "      <td>10.977393</td>\n",
       "      <td>0.903571</td>\n",
       "      <td>68.599998</td>\n",
       "      <td>0.848753</td>\n",
       "      <td>0.219460</td>\n",
       "      <td>0.697543</td>\n",
       "      <td>0.813908</td>\n",
       "      <td>0.274688</td>\n",
       "    </tr>\n",
       "    <tr>\n",
       "      <th>16</th>\n",
       "      <td>71</td>\n",
       "      <td>2016</td>\n",
       "      <td>USA</td>\n",
       "      <td>as i address the general assembly in this hall...</td>\n",
       "      <td>[address, hall, final, recount, progress, eigh...</td>\n",
       "      <td>address hall final recount progress eight dept...</td>\n",
       "      <td>1.0</td>\n",
       "      <td>World</td>\n",
       "      <td>19.0</td>\n",
       "      <td>Americas</td>\n",
       "      <td>...</td>\n",
       "      <td>Developed</td>\n",
       "      <td>6.803600</td>\n",
       "      <td>10.985777</td>\n",
       "      <td>0.896751</td>\n",
       "      <td>68.500000</td>\n",
       "      <td>0.757893</td>\n",
       "      <td>0.144048</td>\n",
       "      <td>0.738920</td>\n",
       "      <td>0.805674</td>\n",
       "      <td>0.264204</td>\n",
       "    </tr>\n",
       "    <tr>\n",
       "      <th>17</th>\n",
       "      <td>72</td>\n",
       "      <td>2017</td>\n",
       "      <td>USA</td>\n",
       "      <td>i welcome everyone to new york. it is a profou...</td>\n",
       "      <td>[everyone, york, profound, honour, stand, home...</td>\n",
       "      <td>everyone york profound honour stand home city ...</td>\n",
       "      <td>1.0</td>\n",
       "      <td>World</td>\n",
       "      <td>19.0</td>\n",
       "      <td>Americas</td>\n",
       "      <td>...</td>\n",
       "      <td>Developed</td>\n",
       "      <td>6.991759</td>\n",
       "      <td>11.001395</td>\n",
       "      <td>0.921003</td>\n",
       "      <td>68.400002</td>\n",
       "      <td>0.868497</td>\n",
       "      <td>0.197317</td>\n",
       "      <td>0.681191</td>\n",
       "      <td>0.826555</td>\n",
       "      <td>0.268269</td>\n",
       "    </tr>\n",
       "    <tr>\n",
       "      <th>18</th>\n",
       "      <td>73</td>\n",
       "      <td>2018</td>\n",
       "      <td>USA</td>\n",
       "      <td>one year ago, i stood before the assembly for ...</td>\n",
       "      <td>[stood, hall, address, threat, face, present, ...</td>\n",
       "      <td>stood hall address threat face present vision ...</td>\n",
       "      <td>1.0</td>\n",
       "      <td>World</td>\n",
       "      <td>19.0</td>\n",
       "      <td>Americas</td>\n",
       "      <td>...</td>\n",
       "      <td>Developed</td>\n",
       "      <td>6.882685</td>\n",
       "      <td>11.025024</td>\n",
       "      <td>0.903856</td>\n",
       "      <td>68.300003</td>\n",
       "      <td>0.824607</td>\n",
       "      <td>0.116116</td>\n",
       "      <td>0.709928</td>\n",
       "      <td>0.815383</td>\n",
       "      <td>0.292226</td>\n",
       "    </tr>\n",
       "    <tr>\n",
       "      <th>19</th>\n",
       "      <td>74</td>\n",
       "      <td>2019</td>\n",
       "      <td>USA</td>\n",
       "      <td>seven decades of history have passed through t...</td>\n",
       "      <td>[seven, decade, history, pass, hall, richness,...</td>\n",
       "      <td>seven decade history pass hall richness drama ...</td>\n",
       "      <td>1.0</td>\n",
       "      <td>World</td>\n",
       "      <td>19.0</td>\n",
       "      <td>Americas</td>\n",
       "      <td>...</td>\n",
       "      <td>Developed</td>\n",
       "      <td>6.943701</td>\n",
       "      <td>11.043353</td>\n",
       "      <td>0.916691</td>\n",
       "      <td>68.199997</td>\n",
       "      <td>0.836139</td>\n",
       "      <td>0.144299</td>\n",
       "      <td>0.706716</td>\n",
       "      <td>0.814985</td>\n",
       "      <td>0.243834</td>\n",
       "    </tr>\n",
       "    <tr>\n",
       "      <th>20</th>\n",
       "      <td>75</td>\n",
       "      <td>2020</td>\n",
       "      <td>USA</td>\n",
       "      <td>it is my profound honor to address the united ...</td>\n",
       "      <td>[profound, honor, address, nation, end, war, f...</td>\n",
       "      <td>profound honor address nation end war found na...</td>\n",
       "      <td>1.0</td>\n",
       "      <td>World</td>\n",
       "      <td>19.0</td>\n",
       "      <td>Americas</td>\n",
       "      <td>...</td>\n",
       "      <td>Developed</td>\n",
       "      <td>7.028088</td>\n",
       "      <td>11.000656</td>\n",
       "      <td>0.937370</td>\n",
       "      <td>68.099998</td>\n",
       "      <td>0.850447</td>\n",
       "      <td>0.034103</td>\n",
       "      <td>0.678125</td>\n",
       "      <td>0.787372</td>\n",
       "      <td>0.295499</td>\n",
       "    </tr>\n",
       "  </tbody>\n",
       "</table>\n",
       "<p>21 rows × 31 columns</p>\n",
       "</div>"
      ],
      "text/plain": [
       "    session_nr  year country  \\\n",
       "0           55  2000     USA   \n",
       "1           56  2001     USA   \n",
       "2           57  2002     USA   \n",
       "3           58  2003     USA   \n",
       "4           59  2004     USA   \n",
       "5           60  2005     USA   \n",
       "6           61  2006     USA   \n",
       "7           62  2007     USA   \n",
       "8           63  2008     USA   \n",
       "9           64  2009     USA   \n",
       "10          65  2010     USA   \n",
       "11          66  2011     USA   \n",
       "12          67  2012     USA   \n",
       "13          68  2013     USA   \n",
       "14          69  2014     USA   \n",
       "15          70  2015     USA   \n",
       "16          71  2016     USA   \n",
       "17          72  2017     USA   \n",
       "18          73  2018     USA   \n",
       "19          74  2019     USA   \n",
       "20          75  2020     USA   \n",
       "\n",
       "                                                 Text  \\\n",
       "0   i am\\nhonoured to address the assembly on beha...   \n",
       "1   we meet in a hall devoted to\\npeace; in a city...   \n",
       "2   we meet one year and one day\\nafter a terroris...   \n",
       "3   twenty-four months ago, and\\nyesterday in the ...   \n",
       "4   thank you for the honour of\\naddressing the ge...   \n",
       "5    on behalf\\nof president bush and all of the a...   \n",
       "6   i am grateful for the privilege of \\nspeaking ...   \n",
       "7   thank you for the opportunity \\nto address the...   \n",
       "8   i am pleased to be here to \\naddress the gener...   \n",
       "9   it is my honour to address the \\nassembly for ...   \n",
       "10  it is a great honour to address \\nthis assembl...   \n",
       "11  it is a great honour for me to \\nbe here today...   \n",
       "12  i would like to begin today by\\ntelling the as...   \n",
       "13  each year we come together to \\nreaffirm the f...   \n",
       "14  we come together at a \\ncrossroads between war...   \n",
       "15  seventy years after the founding of the united...   \n",
       "16  as i address the general assembly in this hall...   \n",
       "17  i welcome everyone to new york. it is a profou...   \n",
       "18  one year ago, i stood before the assembly for ...   \n",
       "19  seven decades of history have passed through t...   \n",
       "20  it is my profound honor to address the united ...   \n",
       "\n",
       "                                               Tokens  \\\n",
       "0   [honour, address, behalf, reinforce, eloquent,...   \n",
       "1   [meet, hall, devote, peace, city, scar, violen...   \n",
       "2   [meet, day, terrorist, attack, brought, grief,...   \n",
       "3   [month, yesterday, memory, america, centre, yo...   \n",
       "4   [honour, address, american, respect, idealism,...   \n",
       "5   [behalf, bush, american, york, city, aftermath...   \n",
       "6   [grateful, privilege, speak, week, america, ma...   \n",
       "7   [opportunity, address, nation, sixty, represen...   \n",
       "8   [address, representative, around, gather, san,...   \n",
       "9   [honour, address, humble, responsibility, amer...   \n",
       "10  [great, honour, address, nearly, election, ord...   \n",
       "11  [great, honour, subject, heart, nation, pursui...   \n",
       "12  [american, name, chris, stevens, chris, born, ...   \n",
       "13  [reaffirm, found, vision, institution, record,...   \n",
       "14  [crossroad, war, peace, disorder, integration,...   \n",
       "15  [seventy, found, nation, worth, reflect, body,...   \n",
       "16  [address, hall, final, recount, progress, eigh...   \n",
       "17  [everyone, york, profound, honour, stand, home...   \n",
       "18  [stood, hall, address, threat, face, present, ...   \n",
       "19  [seven, decade, history, pass, hall, richness,...   \n",
       "20  [profound, honor, address, nation, end, war, f...   \n",
       "\n",
       "                                        Joined_Tokens  Global Code  \\\n",
       "0   honour address behalf reinforce eloquent messa...          1.0   \n",
       "1   meet hall devote peace city scar violence nati...          1.0   \n",
       "2   meet day terrorist attack brought grief brough...          1.0   \n",
       "3   month yesterday memory america centre york cit...          1.0   \n",
       "4   honour address american respect idealism life ...          1.0   \n",
       "5   behalf bush american york city aftermath hurri...          1.0   \n",
       "6   grateful privilege speak week america marked f...          1.0   \n",
       "7   opportunity address nation sixty representativ...          1.0   \n",
       "8   address representative around gather san franc...          1.0   \n",
       "9   honour address humble responsibility american ...          1.0   \n",
       "10  great honour address nearly election ordinary ...          1.0   \n",
       "11  great honour subject heart nation pursuit peac...          1.0   \n",
       "12  american name chris stevens chris born town ca...          1.0   \n",
       "13  reaffirm found vision institution record histo...          1.0   \n",
       "14  crossroad war peace disorder integration fear ...          1.0   \n",
       "15  seventy found nation worth reflect body work h...          1.0   \n",
       "16  address hall final recount progress eight dept...          1.0   \n",
       "17  everyone york profound honour stand home city ...          1.0   \n",
       "18  stood hall address threat face present vision ...          1.0   \n",
       "19  seven decade history pass hall richness drama ...          1.0   \n",
       "20  profound honor address nation end war found na...          1.0   \n",
       "\n",
       "   Global Name  Region Code Region Name  ...  \\\n",
       "0        World         19.0    Americas  ...   \n",
       "1        World         19.0    Americas  ...   \n",
       "2        World         19.0    Americas  ...   \n",
       "3        World         19.0    Americas  ...   \n",
       "4        World         19.0    Americas  ...   \n",
       "5        World         19.0    Americas  ...   \n",
       "6        World         19.0    Americas  ...   \n",
       "7        World         19.0    Americas  ...   \n",
       "8        World         19.0    Americas  ...   \n",
       "9        World         19.0    Americas  ...   \n",
       "10       World         19.0    Americas  ...   \n",
       "11       World         19.0    Americas  ...   \n",
       "12       World         19.0    Americas  ...   \n",
       "13       World         19.0    Americas  ...   \n",
       "14       World         19.0    Americas  ...   \n",
       "15       World         19.0    Americas  ...   \n",
       "16       World         19.0    Americas  ...   \n",
       "17       World         19.0    Americas  ...   \n",
       "18       World         19.0    Americas  ...   \n",
       "19       World         19.0    Americas  ...   \n",
       "20       World         19.0    Americas  ...   \n",
       "\n",
       "    Developed / Developing Countries Life Ladder  Log GDP per capita  \\\n",
       "0                          Developed         NaN                 NaN   \n",
       "1                          Developed         NaN                 NaN   \n",
       "2                          Developed         NaN                 NaN   \n",
       "3                          Developed         NaN                 NaN   \n",
       "4                          Developed         NaN                 NaN   \n",
       "5                          Developed         NaN                 NaN   \n",
       "6                          Developed    7.181794           10.923974   \n",
       "7                          Developed    7.512688           10.933051   \n",
       "8                          Developed    7.280386           10.922226   \n",
       "9                          Developed    7.158032           10.887765   \n",
       "10                         Developed    7.163616           10.904800   \n",
       "11                         Developed    7.115139           10.912990   \n",
       "12                         Developed    7.026227           10.927963   \n",
       "13                         Developed    7.249285           10.939349   \n",
       "14                         Developed    7.151114           10.956298   \n",
       "15                         Developed    6.863947           10.977393   \n",
       "16                         Developed    6.803600           10.985777   \n",
       "17                         Developed    6.991759           11.001395   \n",
       "18                         Developed    6.882685           11.025024   \n",
       "19                         Developed    6.943701           11.043353   \n",
       "20                         Developed    7.028088           11.000656   \n",
       "\n",
       "   Social support Healthy life expectancy at birth  \\\n",
       "0             NaN                              NaN   \n",
       "1             NaN                              NaN   \n",
       "2             NaN                              NaN   \n",
       "3             NaN                              NaN   \n",
       "4             NaN                              NaN   \n",
       "5             NaN                              NaN   \n",
       "6        0.964572                        68.059998   \n",
       "7             NaN                        68.220001   \n",
       "8        0.952587                        68.379997   \n",
       "9        0.911794                        68.540001   \n",
       "10       0.926159                        68.699997   \n",
       "11       0.921705                        68.680000   \n",
       "12       0.903192                        68.660004   \n",
       "13       0.925397                        68.639999   \n",
       "14       0.902097                        68.620003   \n",
       "15       0.903571                        68.599998   \n",
       "16       0.896751                        68.500000   \n",
       "17       0.921003                        68.400002   \n",
       "18       0.903856                        68.300003   \n",
       "19       0.916691                        68.199997   \n",
       "20       0.937370                        68.099998   \n",
       "\n",
       "    Freedom to make life choices Generosity Perceptions of corruption  \\\n",
       "0                            NaN        NaN                       NaN   \n",
       "1                            NaN        NaN                       NaN   \n",
       "2                            NaN        NaN                       NaN   \n",
       "3                            NaN        NaN                       NaN   \n",
       "4                            NaN        NaN                       NaN   \n",
       "5                            NaN        NaN                       NaN   \n",
       "6                       0.911496        NaN                  0.600309   \n",
       "7                       0.871904   0.197084                  0.633035   \n",
       "8                       0.877956   0.254692                  0.668495   \n",
       "9                       0.830684   0.200643                  0.665394   \n",
       "10                      0.828044   0.243921                  0.689583   \n",
       "11                      0.863202   0.160684                  0.696926   \n",
       "12                      0.822662   0.214699                  0.710034   \n",
       "13                      0.792256   0.273915                  0.746894   \n",
       "14                      0.866077   0.221340                  0.702267   \n",
       "15                      0.848753   0.219460                  0.697543   \n",
       "16                      0.757893   0.144048                  0.738920   \n",
       "17                      0.868497   0.197317                  0.681191   \n",
       "18                      0.824607   0.116116                  0.709928   \n",
       "19                      0.836139   0.144299                  0.706716   \n",
       "20                      0.850447   0.034103                  0.678125   \n",
       "\n",
       "   Positive affect Negative affect  \n",
       "0              NaN             NaN  \n",
       "1              NaN             NaN  \n",
       "2              NaN             NaN  \n",
       "3              NaN             NaN  \n",
       "4              NaN             NaN  \n",
       "5              NaN             NaN  \n",
       "6         0.827417        0.260511  \n",
       "7         0.828503        0.231679  \n",
       "8         0.871968        0.226823  \n",
       "9         0.843484        0.261661  \n",
       "10        0.860642        0.231053  \n",
       "11        0.836360        0.273379  \n",
       "12        0.833771        0.259644  \n",
       "13        0.813678        0.260328  \n",
       "14        0.834294        0.281265  \n",
       "15        0.813908        0.274688  \n",
       "16        0.805674        0.264204  \n",
       "17        0.826555        0.268269  \n",
       "18        0.815383        0.292226  \n",
       "19        0.814985        0.243834  \n",
       "20        0.787372        0.295499  \n",
       "\n",
       "[21 rows x 31 columns]"
      ]
     },
     "execution_count": 3,
     "metadata": {},
     "output_type": "execute_result"
    }
   ],
   "source": [
    "# Let see how the US talks at the UN general debates. Since it is a big dataset, let's get a subset of data\n",
    "US_speech = speech[\n",
    "    (speech[\"Country or Area\"] == \"United States of America\") \n",
    "    & (speech[\"year\"] >= 2000)\n",
    "].reset_index(drop=True)\n",
    "US_speech"
   ]
  },
  {
   "cell_type": "code",
   "execution_count": 4,
   "metadata": {},
   "outputs": [
    {
     "name": "stdout",
     "output_type": "stream",
     "text": [
      "21\n"
     ]
    }
   ],
   "source": [
    "# prepare data to train dynamic EDL model\n",
    "def data_feeder(df):\n",
    "    for index, row in df.iterrows():\n",
    "        tokens = [token for token in row[\"Tokens\"]]\n",
    "        yield \" \".join(tokens), None, {\"timepoint\": row[\"timepoint\"]}\n",
    "\n",
    "US_speech[\"timepoint\"] = US_speech.index\n",
    "corpus = tp.utils.Corpus(tokenizer=tp.utils.SimpleTokenizer())\n",
    "corpus.process(data_feeder(US_speech))\n",
    "print(len(corpus))"
   ]
  },
  {
   "cell_type": "code",
   "execution_count": 5,
   "metadata": {},
   "outputs": [
    {
     "name": "stdout",
     "output_type": "stream",
     "text": [
      "honour address behalf reinforce eloquent message c ... None {'timepoint': 0}\n",
      "meet hall devote peace city scar violence nation a ... None {'timepoint': 1}\n",
      "meet day terrorist attack brought grief brought gr ... None {'timepoint': 2}\n",
      "month yesterday memory america centre york city be ... None {'timepoint': 3}\n",
      "honour address american respect idealism life orga ... None {'timepoint': 4}\n",
      "behalf bush american york city aftermath hurricane ... None {'timepoint': 5}\n"
     ]
    }
   ],
   "source": [
    "for i, row in enumerate(data_feeder(US_speech)):\n",
    "    print(row[0][:50],\"...\", row[1], row[2])\n",
    "    if i ==5:\n",
    "        break\n"
   ]
  },
  {
   "cell_type": "code",
   "execution_count": 6,
   "metadata": {},
   "outputs": [
    {
     "name": "stderr",
     "output_type": "stream",
     "text": [
      "/var/folders/ny/x98qxh1124dbtz5g3f6s09hh0000gn/T/ipykernel_85625/1327597739.py:11: RuntimeWarning:\n",
      "\n",
      "The training result may differ even with fixed seed if `workers` != 1.\n",
      "\n"
     ]
    }
   ],
   "source": [
    "# Train DTM model with 7 topics:\n",
    "mdl = tp.DTModel(\n",
    "                 min_cf=3, \n",
    "                 k=7, \n",
    "                 t=21, \n",
    "                 corpus=corpus, \n",
    "                 tw=tp.TermWeight.IDF, \n",
    "                 seed=0\n",
    "                 )\n",
    "# 100 iterations where model goes through the whole corpus 100 times\n",
    "mdl.train(100)"
   ]
  },
  {
   "cell_type": "code",
   "execution_count": 27,
   "metadata": {},
   "outputs": [
    {
     "data": {
      "text/html": [
       "<div>\n",
       "<style scoped>\n",
       "    .dataframe tbody tr th:only-of-type {\n",
       "        vertical-align: middle;\n",
       "    }\n",
       "\n",
       "    .dataframe tbody tr th {\n",
       "        vertical-align: top;\n",
       "    }\n",
       "\n",
       "    .dataframe thead th {\n",
       "        text-align: right;\n",
       "    }\n",
       "</style>\n",
       "<table border=\"1\" class=\"dataframe\">\n",
       "  <thead>\n",
       "    <tr style=\"text-align: right;\">\n",
       "      <th></th>\n",
       "      <th>topic</th>\n",
       "      <th>year</th>\n",
       "      <th>word</th>\n",
       "      <th>probability</th>\n",
       "    </tr>\n",
       "  </thead>\n",
       "  <tbody>\n",
       "    <tr>\n",
       "      <th>0</th>\n",
       "      <td>0</td>\n",
       "      <td>2000</td>\n",
       "      <td>adjustment</td>\n",
       "      <td>0.014211</td>\n",
       "    </tr>\n",
       "    <tr>\n",
       "      <th>1</th>\n",
       "      <td>0</td>\n",
       "      <td>2000</td>\n",
       "      <td>surely</td>\n",
       "      <td>0.011802</td>\n",
       "    </tr>\n",
       "    <tr>\n",
       "      <th>2</th>\n",
       "      <td>0</td>\n",
       "      <td>2000</td>\n",
       "      <td>ease</td>\n",
       "      <td>0.011794</td>\n",
       "    </tr>\n",
       "    <tr>\n",
       "      <th>3</th>\n",
       "      <td>0</td>\n",
       "      <td>2000</td>\n",
       "      <td>element</td>\n",
       "      <td>0.011788</td>\n",
       "    </tr>\n",
       "    <tr>\n",
       "      <th>4</th>\n",
       "      <td>0</td>\n",
       "      <td>2000</td>\n",
       "      <td>silent</td>\n",
       "      <td>0.010093</td>\n",
       "    </tr>\n",
       "    <tr>\n",
       "      <th>...</th>\n",
       "      <td>...</td>\n",
       "      <td>...</td>\n",
       "      <td>...</td>\n",
       "      <td>...</td>\n",
       "    </tr>\n",
       "    <tr>\n",
       "      <th>1465</th>\n",
       "      <td>6</td>\n",
       "      <td>2020</td>\n",
       "      <td>fast</td>\n",
       "      <td>0.028104</td>\n",
       "    </tr>\n",
       "    <tr>\n",
       "      <th>1466</th>\n",
       "      <td>6</td>\n",
       "      <td>2020</td>\n",
       "      <td>domestic</td>\n",
       "      <td>0.028104</td>\n",
       "    </tr>\n",
       "    <tr>\n",
       "      <th>1467</th>\n",
       "      <td>6</td>\n",
       "      <td>2020</td>\n",
       "      <td>breakthrough</td>\n",
       "      <td>0.024362</td>\n",
       "    </tr>\n",
       "    <tr>\n",
       "      <th>1468</th>\n",
       "      <td>6</td>\n",
       "      <td>2020</td>\n",
       "      <td>cuba</td>\n",
       "      <td>0.021299</td>\n",
       "    </tr>\n",
       "    <tr>\n",
       "      <th>1469</th>\n",
       "      <td>6</td>\n",
       "      <td>2020</td>\n",
       "      <td>sponsor</td>\n",
       "      <td>0.018714</td>\n",
       "    </tr>\n",
       "  </tbody>\n",
       "</table>\n",
       "<p>1470 rows × 4 columns</p>\n",
       "</div>"
      ],
      "text/plain": [
       "     topic  year          word  probability\n",
       "0        0  2000    adjustment     0.014211\n",
       "1        0  2000        surely     0.011802\n",
       "2        0  2000          ease     0.011794\n",
       "3        0  2000       element     0.011788\n",
       "4        0  2000        silent     0.010093\n",
       "...    ...   ...           ...          ...\n",
       "1465     6  2020          fast     0.028104\n",
       "1466     6  2020      domestic     0.028104\n",
       "1467     6  2020  breakthrough     0.024362\n",
       "1468     6  2020          cuba     0.021299\n",
       "1469     6  2020       sponsor     0.018714\n",
       "\n",
       "[1470 rows x 4 columns]"
      ]
     },
     "execution_count": 27,
     "metadata": {},
     "output_type": "execute_result"
    }
   ],
   "source": [
    "# create an empty DataFrame to store the results\n",
    "df_results = pd.DataFrame(columns=[\"topic\", \"timepoint\", \"word\", \"probability\"])\n",
    "\n",
    "for t in range(mdl.num_timepoints):\n",
    "    for k in range(mdl.k):\n",
    "        # get the top 10 words of the current topic at the current timepoint\n",
    "        topic_words = mdl.get_topic_words(k, timepoint=t, top_n=10)\n",
    "        for word, prob in topic_words:\n",
    "            # add the word and its probability to the DataFrame\n",
    "            df_results = pd.concat(\n",
    "                [\n",
    "                    df_results,\n",
    "                    pd.DataFrame(\n",
    "                        {\"topic\": k, \"timepoint\": t, \"word\": word, \"probability\": prob},\n",
    "                        index=[0],\n",
    "                    ),\n",
    "                ],\n",
    "                ignore_index=True,\n",
    "            )\n",
    "df_results = df_results.merge(\n",
    "    US_speech.reset_index(), left_on=\"timepoint\", right_on=\"index\"\n",
    ")[[\"topic\", \"year\", \"word\", \"probability\"]]\n",
    "df_results"
   ]
  },
  {
   "cell_type": "code",
   "execution_count": 28,
   "metadata": {},
   "outputs": [
    {
     "name": "stderr",
     "output_type": "stream",
     "text": [
      "/var/folders/ny/x98qxh1124dbtz5g3f6s09hh0000gn/T/ipykernel_85625/881849878.py:1: FutureWarning:\n",
      "\n",
      "Not prepending group keys to the result index of transform-like apply. In the future, the group keys will be included in the index, regardless of whether the applied function returns a like-indexed object.\n",
      "To preserve the previous behavior, use\n",
      "\n",
      "\t>>> .groupby(..., group_keys=False)\n",
      "\n",
      "To adopt the future behavior and silence this warning, use \n",
      "\n",
      "\t>>> .groupby(..., group_keys=True)\n",
      "\n"
     ]
    }
   ],
   "source": [
    "df_filtered = df_results.groupby(['topic', 'year']).apply(lambda x: x.nlargest(10, 'probability'))\n",
    "df_filtered = df_filtered.reset_index(drop=True)\n",
    "df_pivoted = df_filtered.pivot_table(index=['topic', 'word'], columns='year', values='probability')\n",
    "df_pivoted = df_pivoted.reindex(sorted(df_pivoted.columns), axis=1)\n",
    "df_pivoted = df_pivoted.reset_index().rename_axis(None, axis=1)\n"
   ]
  },
  {
   "cell_type": "code",
   "execution_count": 33,
   "metadata": {},
   "outputs": [
    {
     "data": {
      "text/html": [
       "<div>\n",
       "<style scoped>\n",
       "    .dataframe tbody tr th:only-of-type {\n",
       "        vertical-align: middle;\n",
       "    }\n",
       "\n",
       "    .dataframe tbody tr th {\n",
       "        vertical-align: top;\n",
       "    }\n",
       "\n",
       "    .dataframe thead th {\n",
       "        text-align: right;\n",
       "    }\n",
       "</style>\n",
       "<table border=\"1\" class=\"dataframe\">\n",
       "  <thead>\n",
       "    <tr style=\"text-align: right;\">\n",
       "      <th></th>\n",
       "      <th>topic</th>\n",
       "      <th>2000</th>\n",
       "      <th>2001</th>\n",
       "      <th>2002</th>\n",
       "      <th>2003</th>\n",
       "      <th>2004</th>\n",
       "      <th>2005</th>\n",
       "      <th>2006</th>\n",
       "      <th>2007</th>\n",
       "      <th>2008</th>\n",
       "      <th>...</th>\n",
       "      <th>2011</th>\n",
       "      <th>2012</th>\n",
       "      <th>2013</th>\n",
       "      <th>2014</th>\n",
       "      <th>2015</th>\n",
       "      <th>2016</th>\n",
       "      <th>2017</th>\n",
       "      <th>2018</th>\n",
       "      <th>2019</th>\n",
       "      <th>2020</th>\n",
       "    </tr>\n",
       "  </thead>\n",
       "  <tbody>\n",
       "    <tr>\n",
       "      <th>0</th>\n",
       "      <td>0</td>\n",
       "      <td>adjustment</td>\n",
       "      <td>adjustment</td>\n",
       "      <td>agent</td>\n",
       "      <td>army</td>\n",
       "      <td>asset</td>\n",
       "      <td>builder</td>\n",
       "      <td>approve</td>\n",
       "      <td>alleviate</td>\n",
       "      <td>account</td>\n",
       "      <td>...</td>\n",
       "      <td>aspiration</td>\n",
       "      <td>benghazi</td>\n",
       "      <td>carnage</td>\n",
       "      <td>challenged</td>\n",
       "      <td>carnage</td>\n",
       "      <td>collapse</td>\n",
       "      <td>denuclearization</td>\n",
       "      <td>cycle</td>\n",
       "      <td>activist</td>\n",
       "      <td>carbon</td>\n",
       "    </tr>\n",
       "    <tr>\n",
       "      <th>1</th>\n",
       "      <td>0</td>\n",
       "      <td>burma</td>\n",
       "      <td>asset</td>\n",
       "      <td>broken</td>\n",
       "      <td>assist</td>\n",
       "      <td>aung</td>\n",
       "      <td>commission</td>\n",
       "      <td>equally</td>\n",
       "      <td>article</td>\n",
       "      <td>actively</td>\n",
       "      <td>...</td>\n",
       "      <td>bin</td>\n",
       "      <td>bin</td>\n",
       "      <td>community</td>\n",
       "      <td>counter</td>\n",
       "      <td>cuban</td>\n",
       "      <td>cure</td>\n",
       "      <td>diverse</td>\n",
       "      <td>embarrassment</td>\n",
       "      <td>chinese</td>\n",
       "      <td>contrast</td>\n",
       "    </tr>\n",
       "    <tr>\n",
       "      <th>2</th>\n",
       "      <td>0</td>\n",
       "      <td>ease</td>\n",
       "      <td>distant</td>\n",
       "      <td>challenged</td>\n",
       "      <td>dedicate</td>\n",
       "      <td>ceasefire</td>\n",
       "      <td>disaster</td>\n",
       "      <td>inspire</td>\n",
       "      <td>education</td>\n",
       "      <td>connect</td>\n",
       "      <td>...</td>\n",
       "      <td>gay</td>\n",
       "      <td>chris</td>\n",
       "      <td>fragile</td>\n",
       "      <td>degrade</td>\n",
       "      <td>goodness</td>\n",
       "      <td>enhances</td>\n",
       "      <td>domination</td>\n",
       "      <td>forever</td>\n",
       "      <td>harmony</td>\n",
       "      <td>drug</td>\n",
       "    </tr>\n",
       "    <tr>\n",
       "      <th>3</th>\n",
       "      <td>0</td>\n",
       "      <td>element</td>\n",
       "      <td>holocaust</td>\n",
       "      <td>horror</td>\n",
       "      <td>expertise</td>\n",
       "      <td>difficulty</td>\n",
       "      <td>distort</td>\n",
       "      <td>neutral</td>\n",
       "      <td>environmental</td>\n",
       "      <td>cross</td>\n",
       "      <td>...</td>\n",
       "      <td>israeli</td>\n",
       "      <td>cling</td>\n",
       "      <td>interim</td>\n",
       "      <td>distract</td>\n",
       "      <td>immigrant</td>\n",
       "      <td>framework</td>\n",
       "      <td>duty</td>\n",
       "      <td>horrible</td>\n",
       "      <td>illegal</td>\n",
       "      <td>dump</td>\n",
       "    </tr>\n",
       "    <tr>\n",
       "      <th>4</th>\n",
       "      <td>0</td>\n",
       "      <td>expert</td>\n",
       "      <td>hostility</td>\n",
       "      <td>kuwait</td>\n",
       "      <td>export</td>\n",
       "      <td>disrupt</td>\n",
       "      <td>few</td>\n",
       "      <td>oppress</td>\n",
       "      <td>hateful</td>\n",
       "      <td>impact</td>\n",
       "      <td>...</td>\n",
       "      <td>knew</td>\n",
       "      <td>cultural</td>\n",
       "      <td>limited</td>\n",
       "      <td>hate</td>\n",
       "      <td>isil</td>\n",
       "      <td>globalization</td>\n",
       "      <td>earth</td>\n",
       "      <td>icc</td>\n",
       "      <td>magnificent</td>\n",
       "      <td>isi</td>\n",
       "    </tr>\n",
       "    <tr>\n",
       "      <th>...</th>\n",
       "      <td>...</td>\n",
       "      <td>...</td>\n",
       "      <td>...</td>\n",
       "      <td>...</td>\n",
       "      <td>...</td>\n",
       "      <td>...</td>\n",
       "      <td>...</td>\n",
       "      <td>...</td>\n",
       "      <td>...</td>\n",
       "      <td>...</td>\n",
       "      <td>...</td>\n",
       "      <td>...</td>\n",
       "      <td>...</td>\n",
       "      <td>...</td>\n",
       "      <td>...</td>\n",
       "      <td>...</td>\n",
       "      <td>...</td>\n",
       "      <td>...</td>\n",
       "      <td>...</td>\n",
       "      <td>...</td>\n",
       "      <td>...</td>\n",
       "    </tr>\n",
       "    <tr>\n",
       "      <th>5</th>\n",
       "      <td>6</td>\n",
       "      <td>peacekeeper</td>\n",
       "      <td>isolation</td>\n",
       "      <td>kuwait</td>\n",
       "      <td>lethal</td>\n",
       "      <td>draft</td>\n",
       "      <td>enact</td>\n",
       "      <td>outstanding</td>\n",
       "      <td>malaria</td>\n",
       "      <td>instability</td>\n",
       "      <td>...</td>\n",
       "      <td>negotiate</td>\n",
       "      <td>politics</td>\n",
       "      <td>libya</td>\n",
       "      <td>problem</td>\n",
       "      <td>russia</td>\n",
       "      <td>model</td>\n",
       "      <td>maduro</td>\n",
       "      <td>horrible</td>\n",
       "      <td>kingdom</td>\n",
       "      <td>eliminate</td>\n",
       "    </tr>\n",
       "    <tr>\n",
       "      <th>6</th>\n",
       "      <td>6</td>\n",
       "      <td>poorest</td>\n",
       "      <td>murderer</td>\n",
       "      <td>little</td>\n",
       "      <td>outlaw</td>\n",
       "      <td>exploitation</td>\n",
       "      <td>lay</td>\n",
       "      <td>peer</td>\n",
       "      <td>moderate</td>\n",
       "      <td>multilateral</td>\n",
       "      <td>...</td>\n",
       "      <td>preferable</td>\n",
       "      <td>slander</td>\n",
       "      <td>match</td>\n",
       "      <td>proxy</td>\n",
       "      <td>simple</td>\n",
       "      <td>myanmar</td>\n",
       "      <td>present</td>\n",
       "      <td>manufacturing</td>\n",
       "      <td>micron</td>\n",
       "      <td>fast</td>\n",
       "    </tr>\n",
       "    <tr>\n",
       "      <th>7</th>\n",
       "      <td>6</td>\n",
       "      <td>rapidly</td>\n",
       "      <td>pakistani</td>\n",
       "      <td>saddam</td>\n",
       "      <td>proliferation</td>\n",
       "      <td>monterrey</td>\n",
       "      <td>leadership</td>\n",
       "      <td>propaganda</td>\n",
       "      <td>sector</td>\n",
       "      <td>number</td>\n",
       "      <td>...</td>\n",
       "      <td>shortcut</td>\n",
       "      <td>syrian</td>\n",
       "      <td>rouhani</td>\n",
       "      <td>rapidly</td>\n",
       "      <td>ukraine</td>\n",
       "      <td>ordinary</td>\n",
       "      <td>socialism</td>\n",
       "      <td>migration</td>\n",
       "      <td>please</td>\n",
       "      <td>immediately</td>\n",
       "    </tr>\n",
       "    <tr>\n",
       "      <th>8</th>\n",
       "      <td>6</td>\n",
       "      <td>scope</td>\n",
       "      <td>passing</td>\n",
       "      <td>subvert</td>\n",
       "      <td>sex</td>\n",
       "      <td>nigeria</td>\n",
       "      <td>oppose</td>\n",
       "      <td>sixty</td>\n",
       "      <td>thirdly</td>\n",
       "      <td>renew</td>\n",
       "      <td>...</td>\n",
       "      <td>square</td>\n",
       "      <td>video</td>\n",
       "      <td>slaughter</td>\n",
       "      <td>scientist</td>\n",
       "      <td>vacuum</td>\n",
       "      <td>retreat</td>\n",
       "      <td>socialist</td>\n",
       "      <td>successfully</td>\n",
       "      <td>wto</td>\n",
       "      <td>persecution</td>\n",
       "    </tr>\n",
       "    <tr>\n",
       "      <th>9</th>\n",
       "      <td>6</td>\n",
       "      <td>willingness</td>\n",
       "      <td>september</td>\n",
       "      <td>wife</td>\n",
       "      <td>victim</td>\n",
       "      <td>sudanese</td>\n",
       "      <td>responsible</td>\n",
       "      <td>toward</td>\n",
       "      <td>trading</td>\n",
       "      <td>tyranny</td>\n",
       "      <td>...</td>\n",
       "      <td>unto</td>\n",
       "      <td>witness</td>\n",
       "      <td>supreme</td>\n",
       "      <td>unto</td>\n",
       "      <td>weakness</td>\n",
       "      <td>tribe</td>\n",
       "      <td>venezuelan</td>\n",
       "      <td>treasury</td>\n",
       "      <td>xi</td>\n",
       "      <td>sponsor</td>\n",
       "    </tr>\n",
       "  </tbody>\n",
       "</table>\n",
       "<p>70 rows × 22 columns</p>\n",
       "</div>"
      ],
      "text/plain": [
       "    topic         2000        2001        2002           2003          2004  \\\n",
       "0       0   adjustment  adjustment       agent           army         asset   \n",
       "1       0        burma       asset      broken         assist          aung   \n",
       "2       0         ease     distant  challenged       dedicate     ceasefire   \n",
       "3       0      element   holocaust      horror      expertise    difficulty   \n",
       "4       0       expert   hostility      kuwait         export       disrupt   \n",
       "..    ...          ...         ...         ...            ...           ...   \n",
       "5       6  peacekeeper   isolation      kuwait         lethal         draft   \n",
       "6       6      poorest    murderer      little         outlaw  exploitation   \n",
       "7       6      rapidly   pakistani      saddam  proliferation     monterrey   \n",
       "8       6        scope     passing     subvert            sex       nigeria   \n",
       "9       6  willingness   september        wife         victim      sudanese   \n",
       "\n",
       "           2005         2006           2007          2008  ...        2011  \\\n",
       "0       builder      approve      alleviate       account  ...  aspiration   \n",
       "1    commission      equally        article      actively  ...         bin   \n",
       "2      disaster      inspire      education       connect  ...         gay   \n",
       "3       distort      neutral  environmental         cross  ...     israeli   \n",
       "4           few      oppress        hateful        impact  ...        knew   \n",
       "..          ...          ...            ...           ...  ...         ...   \n",
       "5         enact  outstanding        malaria   instability  ...   negotiate   \n",
       "6           lay         peer       moderate  multilateral  ...  preferable   \n",
       "7    leadership   propaganda         sector        number  ...    shortcut   \n",
       "8        oppose        sixty        thirdly         renew  ...      square   \n",
       "9   responsible       toward        trading       tyranny  ...        unto   \n",
       "\n",
       "        2012       2013        2014       2015           2016  \\\n",
       "0   benghazi    carnage  challenged    carnage       collapse   \n",
       "1        bin  community     counter      cuban           cure   \n",
       "2      chris    fragile     degrade   goodness       enhances   \n",
       "3      cling    interim    distract  immigrant      framework   \n",
       "4   cultural    limited        hate       isil  globalization   \n",
       "..       ...        ...         ...        ...            ...   \n",
       "5   politics      libya     problem     russia          model   \n",
       "6    slander      match       proxy     simple        myanmar   \n",
       "7     syrian    rouhani     rapidly    ukraine       ordinary   \n",
       "8      video  slaughter   scientist     vacuum        retreat   \n",
       "9    witness    supreme        unto   weakness          tribe   \n",
       "\n",
       "                2017           2018         2019         2020  \n",
       "0   denuclearization          cycle     activist       carbon  \n",
       "1            diverse  embarrassment      chinese     contrast  \n",
       "2         domination        forever      harmony         drug  \n",
       "3               duty       horrible      illegal         dump  \n",
       "4              earth            icc  magnificent          isi  \n",
       "..               ...            ...          ...          ...  \n",
       "5             maduro       horrible      kingdom    eliminate  \n",
       "6            present  manufacturing       micron         fast  \n",
       "7          socialism      migration       please  immediately  \n",
       "8          socialist   successfully          wto  persecution  \n",
       "9         venezuelan       treasury           xi      sponsor  \n",
       "\n",
       "[70 rows x 22 columns]"
      ]
     },
     "execution_count": 33,
     "metadata": {},
     "output_type": "execute_result"
    }
   ],
   "source": [
    "df_years = []\n",
    "df_topic_word = pd.DataFrame()\n",
    "for topic in df_results.topic.unique():\n",
    "    df_topic = pd.DataFrame()\n",
    "    for year in df_results.year.unique():\n",
    "        df_year = (\n",
    "            df_pivoted[(df_pivoted.topic == topic) & (df_pivoted[year].notnull())][\n",
    "                [\"topic\", \"word\"]\n",
    "            ]\n",
    "            .rename({\"word\": year}, axis=1)\n",
    "            .reset_index(drop=True)\n",
    "        )\n",
    "        df_topic[\"topic\"] = topic\n",
    "        df_topic[year] = df_year[year]\n",
    "        df_years.append(df_year)\n",
    "    df_topic_word = pd.concat([df_topic_word, df_topic])\n",
    "\n",
    "df_topic_word"
   ]
  },
  {
   "cell_type": "code",
   "execution_count": 31,
   "metadata": {},
   "outputs": [],
   "source": [
    "# manually selected terms for each topic\n",
    "\n",
    "top_words = {\n",
    "    0: [\n",
    "        \"judge\",\n",
    "        \"ceasefire\",\n",
    "        \"peril\",\n",
    "        \"patriotism\",\n",
    "        \"catastrophe\",\n",
    "        \"palestine\",\n",
    "        \"plight\",\n",
    "        \"patriot\",\n",
    "    ],\n",
    "    1: [\"kuwait\", \n",
    "        \"recession\", \n",
    "        \"labour\", \n",
    "        \"haiti\", \n",
    "        \"hamas\", \n",
    "        \"legal\", \n",
    "        \"inspector\"\n",
    "    ],\n",
    "    2: [\n",
    "        \"bush\",\n",
    "        \"outbreak\",\n",
    "        \"burma\",\n",
    "        \"sympathy\",\n",
    "        \"francisco\",\n",
    "        \"incentive\",\n",
    "        \"capability\",\n",
    "    ],\n",
    "    3: [\"virus\", \n",
    "        \"vaccine\", \n",
    "        \"wag\", \n",
    "        \"liberia\", \n",
    "        \"venezuela\", \n",
    "        \"lebanese\", \n",
    "        \"kuwait\"\n",
    "    ],\n",
    "    4: [\n",
    "        \"emergence\",\n",
    "        \"sovereignty\",\n",
    "        \"army\",\n",
    "        \"coexist\",\n",
    "        \"square\",\n",
    "        \"willingness\",\n",
    "        \"presence\",\n",
    "    ],\n",
    "    5: [\"waste\",\n",
    "         \"arsenal\", \n",
    "         \"risk\", \n",
    "         \"cripple\", \n",
    "         \"accountability\", \n",
    "         \"symptom\", \n",
    "         \"valley\"\n",
    "    ],\n",
    "    6: [\n",
    "        \"palestine\",\n",
    "        \"sponsor\",\n",
    "        \"tyranny\",\n",
    "        \"ukraine\",\n",
    "        \"exploitation\",\n",
    "        \"article\",\n",
    "        \"cuba\",\n",
    "        \"persecution\",\n",
    "    ],\n",
    "}"
   ]
  },
  {
   "cell_type": "code",
   "execution_count": 34,
   "metadata": {},
   "outputs": [
    {
     "data": {
      "image/png": "[encoded data removed]",
      "text/plain": [
       "<Figure size 800x400 with 1 Axes>"
      ]
     },
     "metadata": {},
     "output_type": "display_data"
    },
    {
     "data": {
      "image/png": "[encoded data removed]",
      "text/plain": [
       "<Figure size 800x400 with 1 Axes>"
      ]
     },
     "metadata": {},
     "output_type": "display_data"
    },
    {
     "data": {
      "image/png": "[encoded data removed]",
      "text/plain": [
       "<Figure size 800x400 with 1 Axes>"
      ]
     },
     "metadata": {},
     "output_type": "display_data"
    },
    {
     "data": {
      "image/png": "[encoded data removed]",
      "text/plain": [
       "<Figure size 800x400 with 1 Axes>"
      ]
     },
     "metadata": {},
     "output_type": "display_data"
    },
    {
     "data": {
      "image/png": "[encoded data removed]",
      "text/plain": [
       "<Figure size 800x400 with 1 Axes>"
      ]
     },
     "metadata": {},
     "output_type": "display_data"
    },
    {
     "data": {
      "image/png": "[encoded data removed]",
      "text/plain": [
       "<Figure size 800x400 with 1 Axes>"
      ]
     },
     "metadata": {},
     "output_type": "display_data"
    },
    {
     "data": {
      "image/png": "[encoded data removed]",
      "text/plain": [
       "<Figure size 800x400 with 1 Axes>"
      ]
     },
     "metadata": {},
     "output_type": "display_data"
    }
   ],
   "source": [
    "num_top_words = len(top_words[0])\n",
    "num_timepoints = mdl.num_timepoints\n",
    "num_topics = mdl.k\n",
    "\n",
    "# plot the evolution of word probabilities over time for each topic and word\n",
    "for topic in range(num_topics):\n",
    "    fig, ax = plt.subplots(figsize=(8, 4))\n",
    "    for i in range(num_topics):\n",
    "        word = top_words[topic][i]\n",
    "        topic_word_probs = []\n",
    "        for timeslice in range(num_timepoints):\n",
    "            topic_word_dist = mdl.get_topic_word_dist(topic, timeslice)\n",
    "            word_index = list(mdl.used_vocabs).index(word)\n",
    "            topic_word_probs.append(topic_word_dist[word_index])\n",
    "        # use a spline to smooth the data\n",
    "        x_smooth = np.linspace(0, num_timepoints-1, 300)\n",
    "        y_smooth = make_interp_spline(range(num_timepoints), topic_word_probs)(x_smooth)\n",
    "        y_smooth = np.maximum(y_smooth, 0)\n",
    "        ax.plot(\n",
    "            x_smooth,\n",
    "            y_smooth,\n",
    "            label=f\"{word}\"\n",
    "        )\n",
    "\n",
    "        ax.legend()\n",
    "        ax.set_xlabel(\"Time slice\")\n",
    "        ax.set_ylabel(\"Probability\")\n",
    "        ax.set_title(f\"Topic {topic}\")\n",
    "    ax.set_ylim(0,0.025)\n",
    "    pos = np.arange(0,21)\n",
    "    labels = np.arange(2000, 2021)\n",
    "    ax.set_xticks(pos)\n",
    "    ax.set_xticklabels(labels, rotation = 45)\n",
    "    \n",
    "plt.show()\n"
   ]
  },
  {
   "cell_type": "code",
   "execution_count": 35,
   "metadata": {},
   "outputs": [
    {
     "data": {
      "text/html": [
       "<div>\n",
       "<style scoped>\n",
       "    .dataframe tbody tr th:only-of-type {\n",
       "        vertical-align: middle;\n",
       "    }\n",
       "\n",
       "    .dataframe tbody tr th {\n",
       "        vertical-align: top;\n",
       "    }\n",
       "\n",
       "    .dataframe thead th {\n",
       "        text-align: right;\n",
       "    }\n",
       "</style>\n",
       "<table border=\"1\" class=\"dataframe\">\n",
       "  <thead>\n",
       "    <tr style=\"text-align: right;\">\n",
       "      <th></th>\n",
       "      <th>0</th>\n",
       "      <th>1</th>\n",
       "      <th>2</th>\n",
       "      <th>3</th>\n",
       "      <th>4</th>\n",
       "      <th>5</th>\n",
       "      <th>6</th>\n",
       "    </tr>\n",
       "    <tr>\n",
       "      <th>year</th>\n",
       "      <th></th>\n",
       "      <th></th>\n",
       "      <th></th>\n",
       "      <th></th>\n",
       "      <th></th>\n",
       "      <th></th>\n",
       "      <th></th>\n",
       "    </tr>\n",
       "  </thead>\n",
       "  <tbody>\n",
       "    <tr>\n",
       "      <th>2000</th>\n",
       "      <td>0.142005</td>\n",
       "      <td>0.151124</td>\n",
       "      <td>0.135173</td>\n",
       "      <td>0.152104</td>\n",
       "      <td>0.133679</td>\n",
       "      <td>0.162198</td>\n",
       "      <td>0.123712</td>\n",
       "    </tr>\n",
       "    <tr>\n",
       "      <th>2001</th>\n",
       "      <td>0.155397</td>\n",
       "      <td>0.140595</td>\n",
       "      <td>0.127133</td>\n",
       "      <td>0.148240</td>\n",
       "      <td>0.138103</td>\n",
       "      <td>0.146563</td>\n",
       "      <td>0.143965</td>\n",
       "    </tr>\n",
       "    <tr>\n",
       "      <th>2002</th>\n",
       "      <td>0.137911</td>\n",
       "      <td>0.164323</td>\n",
       "      <td>0.123085</td>\n",
       "      <td>0.168171</td>\n",
       "      <td>0.153312</td>\n",
       "      <td>0.097217</td>\n",
       "      <td>0.155982</td>\n",
       "    </tr>\n",
       "    <tr>\n",
       "      <th>2003</th>\n",
       "      <td>0.136876</td>\n",
       "      <td>0.145784</td>\n",
       "      <td>0.141975</td>\n",
       "      <td>0.161171</td>\n",
       "      <td>0.137643</td>\n",
       "      <td>0.121171</td>\n",
       "      <td>0.155379</td>\n",
       "    </tr>\n",
       "    <tr>\n",
       "      <th>2004</th>\n",
       "      <td>0.138673</td>\n",
       "      <td>0.105775</td>\n",
       "      <td>0.155241</td>\n",
       "      <td>0.159117</td>\n",
       "      <td>0.144678</td>\n",
       "      <td>0.115417</td>\n",
       "      <td>0.181098</td>\n",
       "    </tr>\n",
       "    <tr>\n",
       "      <th>2005</th>\n",
       "      <td>0.150622</td>\n",
       "      <td>0.166041</td>\n",
       "      <td>0.134548</td>\n",
       "      <td>0.134862</td>\n",
       "      <td>0.153540</td>\n",
       "      <td>0.130316</td>\n",
       "      <td>0.130067</td>\n",
       "    </tr>\n",
       "    <tr>\n",
       "      <th>2006</th>\n",
       "      <td>0.130010</td>\n",
       "      <td>0.139949</td>\n",
       "      <td>0.198095</td>\n",
       "      <td>0.134895</td>\n",
       "      <td>0.120101</td>\n",
       "      <td>0.114738</td>\n",
       "      <td>0.162212</td>\n",
       "    </tr>\n",
       "    <tr>\n",
       "      <th>2007</th>\n",
       "      <td>0.111427</td>\n",
       "      <td>0.133173</td>\n",
       "      <td>0.139657</td>\n",
       "      <td>0.172427</td>\n",
       "      <td>0.134972</td>\n",
       "      <td>0.121033</td>\n",
       "      <td>0.187307</td>\n",
       "    </tr>\n",
       "    <tr>\n",
       "      <th>2008</th>\n",
       "      <td>0.093654</td>\n",
       "      <td>0.129471</td>\n",
       "      <td>0.171807</td>\n",
       "      <td>0.158977</td>\n",
       "      <td>0.124896</td>\n",
       "      <td>0.151588</td>\n",
       "      <td>0.169606</td>\n",
       "    </tr>\n",
       "    <tr>\n",
       "      <th>2009</th>\n",
       "      <td>0.133464</td>\n",
       "      <td>0.120160</td>\n",
       "      <td>0.185187</td>\n",
       "      <td>0.110516</td>\n",
       "      <td>0.124989</td>\n",
       "      <td>0.151795</td>\n",
       "      <td>0.173891</td>\n",
       "    </tr>\n",
       "    <tr>\n",
       "      <th>2010</th>\n",
       "      <td>0.113014</td>\n",
       "      <td>0.147162</td>\n",
       "      <td>0.145257</td>\n",
       "      <td>0.154767</td>\n",
       "      <td>0.170442</td>\n",
       "      <td>0.141250</td>\n",
       "      <td>0.128113</td>\n",
       "    </tr>\n",
       "    <tr>\n",
       "      <th>2011</th>\n",
       "      <td>0.142315</td>\n",
       "      <td>0.103976</td>\n",
       "      <td>0.118167</td>\n",
       "      <td>0.184426</td>\n",
       "      <td>0.144667</td>\n",
       "      <td>0.139306</td>\n",
       "      <td>0.167147</td>\n",
       "    </tr>\n",
       "    <tr>\n",
       "      <th>2012</th>\n",
       "      <td>0.130495</td>\n",
       "      <td>0.131364</td>\n",
       "      <td>0.150976</td>\n",
       "      <td>0.146929</td>\n",
       "      <td>0.108500</td>\n",
       "      <td>0.141017</td>\n",
       "      <td>0.190721</td>\n",
       "    </tr>\n",
       "    <tr>\n",
       "      <th>2013</th>\n",
       "      <td>0.148443</td>\n",
       "      <td>0.110295</td>\n",
       "      <td>0.133437</td>\n",
       "      <td>0.164228</td>\n",
       "      <td>0.129989</td>\n",
       "      <td>0.163992</td>\n",
       "      <td>0.149618</td>\n",
       "    </tr>\n",
       "    <tr>\n",
       "      <th>2014</th>\n",
       "      <td>0.139691</td>\n",
       "      <td>0.155011</td>\n",
       "      <td>0.100813</td>\n",
       "      <td>0.161236</td>\n",
       "      <td>0.155158</td>\n",
       "      <td>0.151140</td>\n",
       "      <td>0.136953</td>\n",
       "    </tr>\n",
       "    <tr>\n",
       "      <th>2015</th>\n",
       "      <td>0.130320</td>\n",
       "      <td>0.136920</td>\n",
       "      <td>0.100578</td>\n",
       "      <td>0.153712</td>\n",
       "      <td>0.121214</td>\n",
       "      <td>0.173017</td>\n",
       "      <td>0.184242</td>\n",
       "    </tr>\n",
       "    <tr>\n",
       "      <th>2016</th>\n",
       "      <td>0.140299</td>\n",
       "      <td>0.168071</td>\n",
       "      <td>0.133182</td>\n",
       "      <td>0.165775</td>\n",
       "      <td>0.132314</td>\n",
       "      <td>0.113777</td>\n",
       "      <td>0.146584</td>\n",
       "    </tr>\n",
       "    <tr>\n",
       "      <th>2017</th>\n",
       "      <td>0.114072</td>\n",
       "      <td>0.142202</td>\n",
       "      <td>0.155598</td>\n",
       "      <td>0.157544</td>\n",
       "      <td>0.163354</td>\n",
       "      <td>0.113491</td>\n",
       "      <td>0.153741</td>\n",
       "    </tr>\n",
       "    <tr>\n",
       "      <th>2018</th>\n",
       "      <td>0.114938</td>\n",
       "      <td>0.133640</td>\n",
       "      <td>0.160307</td>\n",
       "      <td>0.183480</td>\n",
       "      <td>0.120993</td>\n",
       "      <td>0.158578</td>\n",
       "      <td>0.128067</td>\n",
       "    </tr>\n",
       "    <tr>\n",
       "      <th>2019</th>\n",
       "      <td>0.156284</td>\n",
       "      <td>0.156934</td>\n",
       "      <td>0.138015</td>\n",
       "      <td>0.142920</td>\n",
       "      <td>0.155606</td>\n",
       "      <td>0.135447</td>\n",
       "      <td>0.114797</td>\n",
       "    </tr>\n",
       "    <tr>\n",
       "      <th>2020</th>\n",
       "      <td>0.130108</td>\n",
       "      <td>0.167020</td>\n",
       "      <td>0.142439</td>\n",
       "      <td>0.132301</td>\n",
       "      <td>0.116525</td>\n",
       "      <td>0.199302</td>\n",
       "      <td>0.112305</td>\n",
       "    </tr>\n",
       "  </tbody>\n",
       "</table>\n",
       "</div>"
      ],
      "text/plain": [
       "             0         1         2         3         4         5         6\n",
       "year                                                                      \n",
       "2000  0.142005  0.151124  0.135173  0.152104  0.133679  0.162198  0.123712\n",
       "2001  0.155397  0.140595  0.127133  0.148240  0.138103  0.146563  0.143965\n",
       "2002  0.137911  0.164323  0.123085  0.168171  0.153312  0.097217  0.155982\n",
       "2003  0.136876  0.145784  0.141975  0.161171  0.137643  0.121171  0.155379\n",
       "2004  0.138673  0.105775  0.155241  0.159117  0.144678  0.115417  0.181098\n",
       "2005  0.150622  0.166041  0.134548  0.134862  0.153540  0.130316  0.130067\n",
       "2006  0.130010  0.139949  0.198095  0.134895  0.120101  0.114738  0.162212\n",
       "2007  0.111427  0.133173  0.139657  0.172427  0.134972  0.121033  0.187307\n",
       "2008  0.093654  0.129471  0.171807  0.158977  0.124896  0.151588  0.169606\n",
       "2009  0.133464  0.120160  0.185187  0.110516  0.124989  0.151795  0.173891\n",
       "2010  0.113014  0.147162  0.145257  0.154767  0.170442  0.141250  0.128113\n",
       "2011  0.142315  0.103976  0.118167  0.184426  0.144667  0.139306  0.167147\n",
       "2012  0.130495  0.131364  0.150976  0.146929  0.108500  0.141017  0.190721\n",
       "2013  0.148443  0.110295  0.133437  0.164228  0.129989  0.163992  0.149618\n",
       "2014  0.139691  0.155011  0.100813  0.161236  0.155158  0.151140  0.136953\n",
       "2015  0.130320  0.136920  0.100578  0.153712  0.121214  0.173017  0.184242\n",
       "2016  0.140299  0.168071  0.133182  0.165775  0.132314  0.113777  0.146584\n",
       "2017  0.114072  0.142202  0.155598  0.157544  0.163354  0.113491  0.153741\n",
       "2018  0.114938  0.133640  0.160307  0.183480  0.120993  0.158578  0.128067\n",
       "2019  0.156284  0.156934  0.138015  0.142920  0.155606  0.135447  0.114797\n",
       "2020  0.130108  0.167020  0.142439  0.132301  0.116525  0.199302  0.112305"
      ]
     },
     "execution_count": 35,
     "metadata": {},
     "output_type": "execute_result"
    }
   ],
   "source": [
    "topic_dist_by_time = np.zeros(shape=[mdl.num_timepoints, mdl.k], dtype=float)\n",
    "for doc in mdl.docs:\n",
    "    topic_dist_by_time[doc.timepoint] += doc.get_topic_dist()\n",
    "topic_dist_by_time /= mdl.num_docs_by_timepoint[:, np.newaxis]\n",
    "\n",
    "df_top_dist = pd.DataFrame(topic_dist_by_time)\n",
    "df_top_dist.index = US_speech[\"year\"]\n",
    "df_top_dist"
   ]
  },
  {
   "cell_type": "code",
   "execution_count": 36,
   "metadata": {},
   "outputs": [
    {
     "data": {
      "application/vnd.plotly.v1+json": {
       "config": {
        "plotlyServerURL": "https://plotly.com"
       },
       "data": [
        {
         "mode": "lines",
         "name": "0",
         "stackgroup": "one",
         "type": "scatter",
         "x": [
          2000,
          2001,
          2002,
          2003,
          2004,
          2005,
          2006,
          2007,
          2008,
          2009,
          2010,
          2011,
          2012,
          2013,
          2014,
          2015,
          2016,
          2017,
          2018,
          2019,
          2020
         ],
         "y": [
          14.200527966022491,
          15.539690852165222,
          13.79113495349884,
          13.68759423494339,
          13.867317140102386,
          15.062238276004791,
          13.000978529453278,
          11.142679303884506,
          9.36538502573967,
          13.34637701511383,
          11.301369965076447,
          14.231474697589874,
          13.049493730068207,
          14.84430879354477,
          13.969066739082336,
          13.03204894065857,
          14.02994990348816,
          11.407233774662018,
          11.493761837482452,
          15.628369152545929,
          13.010837137699127
         ]
        },
        {
         "mode": "lines",
         "name": "1",
         "stackgroup": "one",
         "type": "scatter",
         "x": [
          2000,
          2001,
          2002,
          2003,
          2004,
          2005,
          2006,
          2007,
          2008,
          2009,
          2010,
          2011,
          2012,
          2013,
          2014,
          2015,
          2016,
          2017,
          2018,
          2019,
          2020
         ],
         "y": [
          15.112355351448059,
          14.059501886367798,
          16.432280838489532,
          14.578379690647125,
          10.577518492937088,
          16.60410761833191,
          13.994857668876648,
          13.317348062992096,
          12.947094440460205,
          12.016003578901291,
          14.71618264913559,
          10.397594422101974,
          13.136391341686249,
          11.029545962810516,
          15.501144528388977,
          13.691951334476471,
          16.80709570646286,
          14.220161736011505,
          13.363979756832123,
          15.693391859531403,
          16.70200675725937
         ]
        },
        {
         "mode": "lines",
         "name": "2",
         "stackgroup": "one",
         "type": "scatter",
         "x": [
          2000,
          2001,
          2002,
          2003,
          2004,
          2005,
          2006,
          2007,
          2008,
          2009,
          2010,
          2011,
          2012,
          2013,
          2014,
          2015,
          2016,
          2017,
          2018,
          2019,
          2020
         ],
         "y": [
          13.51732462644577,
          12.713345885276794,
          12.308456748723984,
          14.197500050067902,
          15.52414745092392,
          13.454759120941162,
          19.809451699256897,
          13.965719938278198,
          17.18074381351471,
          18.51871907711029,
          14.525686204433441,
          11.816667765378952,
          15.097574889659882,
          13.343693315982819,
          10.081347078084946,
          10.05779504776001,
          13.318230211734772,
          15.559788048267365,
          16.030660271644592,
          13.80152702331543,
          14.243906736373901
         ]
        },
        {
         "mode": "lines",
         "name": "3",
         "stackgroup": "one",
         "type": "scatter",
         "x": [
          2000,
          2001,
          2002,
          2003,
          2004,
          2005,
          2006,
          2007,
          2008,
          2009,
          2010,
          2011,
          2012,
          2013,
          2014,
          2015,
          2016,
          2017,
          2018,
          2019,
          2020
         ],
         "y": [
          15.210433304309845,
          14.824014902114868,
          16.817142069339752,
          16.117089986801147,
          15.911707282066345,
          13.486237823963165,
          13.489480316638947,
          17.24267154932022,
          15.897706151008606,
          11.051598936319351,
          15.476691722869873,
          18.44261735677719,
          14.692892134189606,
          16.422799229621887,
          16.123637557029724,
          15.371230244636536,
          16.57746285200119,
          15.754388272762299,
          18.34804266691208,
          14.291968941688538,
          13.23007196187973
         ]
        },
        {
         "mode": "lines",
         "name": "4",
         "stackgroup": "one",
         "type": "scatter",
         "x": [
          2000,
          2001,
          2002,
          2003,
          2004,
          2005,
          2006,
          2007,
          2008,
          2009,
          2010,
          2011,
          2012,
          2013,
          2014,
          2015,
          2016,
          2017,
          2018,
          2019,
          2020
         ],
         "y": [
          13.367931544780731,
          13.810312747955322,
          15.331171452999115,
          13.76425176858902,
          14.467784762382507,
          15.354019403457642,
          12.010063976049423,
          13.49724531173706,
          12.489639222621918,
          12.498906999826431,
          17.044177651405334,
          14.466674625873566,
          10.849995911121368,
          12.998944520950317,
          15.515834093093872,
          12.121371924877167,
          13.231445848941803,
          16.335414350032806,
          12.09929883480072,
          15.560626983642578,
          11.652524769306183
         ]
        },
        {
         "mode": "lines",
         "name": "5",
         "stackgroup": "one",
         "type": "scatter",
         "x": [
          2000,
          2001,
          2002,
          2003,
          2004,
          2005,
          2006,
          2007,
          2008,
          2009,
          2010,
          2011,
          2012,
          2013,
          2014,
          2015,
          2016,
          2017,
          2018,
          2019,
          2020
         ],
         "y": [
          16.219840943813324,
          14.656300842761993,
          9.72166433930397,
          12.117137759923935,
          11.54174953699112,
          13.031649589538574,
          11.473815888166428,
          12.103329598903656,
          15.158824622631073,
          15.179499983787537,
          14.124980568885803,
          13.930566608905792,
          14.101697504520416,
          16.399241983890533,
          15.113987028598785,
          17.301730811595917,
          11.377686262130737,
          11.349119991064072,
          15.857811272144318,
          13.544715940952301,
          19.930218160152435
         ]
        },
        {
         "mode": "lines",
         "name": "6",
         "stackgroup": "one",
         "type": "scatter",
         "x": [
          2000,
          2001,
          2002,
          2003,
          2004,
          2005,
          2006,
          2007,
          2008,
          2009,
          2010,
          2011,
          2012,
          2013,
          2014,
          2015,
          2016,
          2017,
          2018,
          2019,
          2020
         ],
         "y": [
          12.371212244033813,
          14.396512508392334,
          15.598239004611969,
          15.537896752357483,
          18.109765648841858,
          13.006748259067535,
          16.22123271226883,
          18.730702996253967,
          16.960619390010834,
          17.38911271095276,
          12.811298668384552,
          16.714732348918915,
          19.072093069553375,
          14.961792528629303,
          13.695281744003296,
          18.42419058084488,
          14.658413827419281,
          15.374097228050232,
          12.806680798530579,
          11.4796943962574,
          11.230466514825821
         ]
        }
       ],
       "layout": {
        "legend": {
         "orientation": "h",
         "x": 1,
         "xanchor": "right",
         "y": 1.02,
         "yanchor": "bottom"
        },
        "showlegend": true,
        "template": {
         "data": {
          "bar": [
           {
            "error_x": {
             "color": "#2a3f5f"
            },
            "error_y": {
             "color": "#2a3f5f"
            },
            "marker": {
             "line": {
              "color": "#E5ECF6",
              "width": 0.5
             },
             "pattern": {
              "fillmode": "overlay",
              "size": 10,
              "solidity": 0.2
             }
            },
            "type": "bar"
           }
          ],
          "barpolar": [
           {
            "marker": {
             "line": {
              "color": "#E5ECF6",
              "width": 0.5
             },
             "pattern": {
              "fillmode": "overlay",
              "size": 10,
              "solidity": 0.2
             }
            },
            "type": "barpolar"
           }
          ],
          "carpet": [
           {
            "aaxis": {
             "endlinecolor": "#2a3f5f",
             "gridcolor": "white",
             "linecolor": "white",
             "minorgridcolor": "white",
             "startlinecolor": "#2a3f5f"
            },
            "baxis": {
             "endlinecolor": "#2a3f5f",
             "gridcolor": "white",
             "linecolor": "white",
             "minorgridcolor": "white",
             "startlinecolor": "#2a3f5f"
            },
            "type": "carpet"
           }
          ],
          "choropleth": [
           {
            "colorbar": {
             "outlinewidth": 0,
             "ticks": ""
            },
            "type": "choropleth"
           }
          ],
          "contour": [
           {
            "colorbar": {
             "outlinewidth": 0,
             "ticks": ""
            },
            "colorscale": [
             [
              0,
              "#0d0887"
             ],
             [
              0.1111111111111111,
              "#46039f"
             ],
             [
              0.2222222222222222,
              "#7201a8"
             ],
             [
              0.3333333333333333,
              "#9c179e"
             ],
             [
              0.4444444444444444,
              "#bd3786"
             ],
             [
              0.5555555555555556,
              "#d8576b"
             ],
             [
              0.6666666666666666,
              "#ed7953"
             ],
             [
              0.7777777777777778,
              "#fb9f3a"
             ],
             [
              0.8888888888888888,
              "#fdca26"
             ],
             [
              1,
              "#f0f921"
             ]
            ],
            "type": "contour"
           }
          ],
          "contourcarpet": [
           {
            "colorbar": {
             "outlinewidth": 0,
             "ticks": ""
            },
            "type": "contourcarpet"
           }
          ],
          "heatmap": [
           {
            "colorbar": {
             "outlinewidth": 0,
             "ticks": ""
            },
            "colorscale": [
             [
              0,
              "#0d0887"
             ],
             [
              0.1111111111111111,
              "#46039f"
             ],
             [
              0.2222222222222222,
              "#7201a8"
             ],
             [
              0.3333333333333333,
              "#9c179e"
             ],
             [
              0.4444444444444444,
              "#bd3786"
             ],
             [
              0.5555555555555556,
              "#d8576b"
             ],
             [
              0.6666666666666666,
              "#ed7953"
             ],
             [
              0.7777777777777778,
              "#fb9f3a"
             ],
             [
              0.8888888888888888,
              "#fdca26"
             ],
             [
              1,
              "#f0f921"
             ]
            ],
            "type": "heatmap"
           }
          ],
          "heatmapgl": [
           {
            "colorbar": {
             "outlinewidth": 0,
             "ticks": ""
            },
            "colorscale": [
             [
              0,
              "#0d0887"
             ],
             [
              0.1111111111111111,
              "#46039f"
             ],
             [
              0.2222222222222222,
              "#7201a8"
             ],
             [
              0.3333333333333333,
              "#9c179e"
             ],
             [
              0.4444444444444444,
              "#bd3786"
             ],
             [
              0.5555555555555556,
              "#d8576b"
             ],
             [
              0.6666666666666666,
              "#ed7953"
             ],
             [
              0.7777777777777778,
              "#fb9f3a"
             ],
             [
              0.8888888888888888,
              "#fdca26"
             ],
             [
              1,
              "#f0f921"
             ]
            ],
            "type": "heatmapgl"
           }
          ],
          "histogram": [
           {
            "marker": {
             "pattern": {
              "fillmode": "overlay",
              "size": 10,
              "solidity": 0.2
             }
            },
            "type": "histogram"
           }
          ],
          "histogram2d": [
           {
            "colorbar": {
             "outlinewidth": 0,
             "ticks": ""
            },
            "colorscale": [
             [
              0,
              "#0d0887"
             ],
             [
              0.1111111111111111,
              "#46039f"
             ],
             [
              0.2222222222222222,
              "#7201a8"
             ],
             [
              0.3333333333333333,
              "#9c179e"
             ],
             [
              0.4444444444444444,
              "#bd3786"
             ],
             [
              0.5555555555555556,
              "#d8576b"
             ],
             [
              0.6666666666666666,
              "#ed7953"
             ],
             [
              0.7777777777777778,
              "#fb9f3a"
             ],
             [
              0.8888888888888888,
              "#fdca26"
             ],
             [
              1,
              "#f0f921"
             ]
            ],
            "type": "histogram2d"
           }
          ],
          "histogram2dcontour": [
           {
            "colorbar": {
             "outlinewidth": 0,
             "ticks": ""
            },
            "colorscale": [
             [
              0,
              "#0d0887"
             ],
             [
              0.1111111111111111,
              "#46039f"
             ],
             [
              0.2222222222222222,
              "#7201a8"
             ],
             [
              0.3333333333333333,
              "#9c179e"
             ],
             [
              0.4444444444444444,
              "#bd3786"
             ],
             [
              0.5555555555555556,
              "#d8576b"
             ],
             [
              0.6666666666666666,
              "#ed7953"
             ],
             [
              0.7777777777777778,
              "#fb9f3a"
             ],
             [
              0.8888888888888888,
              "#fdca26"
             ],
             [
              1,
              "#f0f921"
             ]
            ],
            "type": "histogram2dcontour"
           }
          ],
          "mesh3d": [
           {
            "colorbar": {
             "outlinewidth": 0,
             "ticks": ""
            },
            "type": "mesh3d"
           }
          ],
          "parcoords": [
           {
            "line": {
             "colorbar": {
              "outlinewidth": 0,
              "ticks": ""
             }
            },
            "type": "parcoords"
           }
          ],
          "pie": [
           {
            "automargin": true,
            "type": "pie"
           }
          ],
          "scatter": [
           {
            "fillpattern": {
             "fillmode": "overlay",
             "size": 10,
             "solidity": 0.2
            },
            "type": "scatter"
           }
          ],
          "scatter3d": [
           {
            "line": {
             "colorbar": {
              "outlinewidth": 0,
              "ticks": ""
             }
            },
            "marker": {
             "colorbar": {
              "outlinewidth": 0,
              "ticks": ""
             }
            },
            "type": "scatter3d"
           }
          ],
          "scattercarpet": [
           {
            "marker": {
             "colorbar": {
              "outlinewidth": 0,
              "ticks": ""
             }
            },
            "type": "scattercarpet"
           }
          ],
          "scattergeo": [
           {
            "marker": {
             "colorbar": {
              "outlinewidth": 0,
              "ticks": ""
             }
            },
            "type": "scattergeo"
           }
          ],
          "scattergl": [
           {
            "marker": {
             "colorbar": {
              "outlinewidth": 0,
              "ticks": ""
             }
            },
            "type": "scattergl"
           }
          ],
          "scattermapbox": [
           {
            "marker": {
             "colorbar": {
              "outlinewidth": 0,
              "ticks": ""
             }
            },
            "type": "scattermapbox"
           }
          ],
          "scatterpolar": [
           {
            "marker": {
             "colorbar": {
              "outlinewidth": 0,
              "ticks": ""
             }
            },
            "type": "scatterpolar"
           }
          ],
          "scatterpolargl": [
           {
            "marker": {
             "colorbar": {
              "outlinewidth": 0,
              "ticks": ""
             }
            },
            "type": "scatterpolargl"
           }
          ],
          "scatterternary": [
           {
            "marker": {
             "colorbar": {
              "outlinewidth": 0,
              "ticks": ""
             }
            },
            "type": "scatterternary"
           }
          ],
          "surface": [
           {
            "colorbar": {
             "outlinewidth": 0,
             "ticks": ""
            },
            "colorscale": [
             [
              0,
              "#0d0887"
             ],
             [
              0.1111111111111111,
              "#46039f"
             ],
             [
              0.2222222222222222,
              "#7201a8"
             ],
             [
              0.3333333333333333,
              "#9c179e"
             ],
             [
              0.4444444444444444,
              "#bd3786"
             ],
             [
              0.5555555555555556,
              "#d8576b"
             ],
             [
              0.6666666666666666,
              "#ed7953"
             ],
             [
              0.7777777777777778,
              "#fb9f3a"
             ],
             [
              0.8888888888888888,
              "#fdca26"
             ],
             [
              1,
              "#f0f921"
             ]
            ],
            "type": "surface"
           }
          ],
          "table": [
           {
            "cells": {
             "fill": {
              "color": "#EBF0F8"
             },
             "line": {
              "color": "white"
             }
            },
            "header": {
             "fill": {
              "color": "#C8D4E3"
             },
             "line": {
              "color": "white"
             }
            },
            "type": "table"
           }
          ]
         },
         "layout": {
          "annotationdefaults": {
           "arrowcolor": "#2a3f5f",
           "arrowhead": 0,
           "arrowwidth": 1
          },
          "autotypenumbers": "strict",
          "coloraxis": {
           "colorbar": {
            "outlinewidth": 0,
            "ticks": ""
           }
          },
          "colorscale": {
           "diverging": [
            [
             0,
             "#8e0152"
            ],
            [
             0.1,
             "#c51b7d"
            ],
            [
             0.2,
             "#de77ae"
            ],
            [
             0.3,
             "#f1b6da"
            ],
            [
             0.4,
             "#fde0ef"
            ],
            [
             0.5,
             "#f7f7f7"
            ],
            [
             0.6,
             "#e6f5d0"
            ],
            [
             0.7,
             "#b8e186"
            ],
            [
             0.8,
             "#7fbc41"
            ],
            [
             0.9,
             "#4d9221"
            ],
            [
             1,
             "#276419"
            ]
           ],
           "sequential": [
            [
             0,
             "#0d0887"
            ],
            [
             0.1111111111111111,
             "#46039f"
            ],
            [
             0.2222222222222222,
             "#7201a8"
            ],
            [
             0.3333333333333333,
             "#9c179e"
            ],
            [
             0.4444444444444444,
             "#bd3786"
            ],
            [
             0.5555555555555556,
             "#d8576b"
            ],
            [
             0.6666666666666666,
             "#ed7953"
            ],
            [
             0.7777777777777778,
             "#fb9f3a"
            ],
            [
             0.8888888888888888,
             "#fdca26"
            ],
            [
             1,
             "#f0f921"
            ]
           ],
           "sequentialminus": [
            [
             0,
             "#0d0887"
            ],
            [
             0.1111111111111111,
             "#46039f"
            ],
            [
             0.2222222222222222,
             "#7201a8"
            ],
            [
             0.3333333333333333,
             "#9c179e"
            ],
            [
             0.4444444444444444,
             "#bd3786"
            ],
            [
             0.5555555555555556,
             "#d8576b"
            ],
            [
             0.6666666666666666,
             "#ed7953"
            ],
            [
             0.7777777777777778,
             "#fb9f3a"
            ],
            [
             0.8888888888888888,
             "#fdca26"
            ],
            [
             1,
             "#f0f921"
            ]
           ]
          },
          "colorway": [
           "#636efa",
           "#EF553B",
           "#00cc96",
           "#ab63fa",
           "#FFA15A",
           "#19d3f3",
           "#FF6692",
           "#B6E880",
           "#FF97FF",
           "#FECB52"
          ],
          "font": {
           "color": "#2a3f5f"
          },
          "geo": {
           "bgcolor": "white",
           "lakecolor": "white",
           "landcolor": "#E5ECF6",
           "showlakes": true,
           "showland": true,
           "subunitcolor": "white"
          },
          "hoverlabel": {
           "align": "left"
          },
          "hovermode": "closest",
          "mapbox": {
           "style": "light"
          },
          "paper_bgcolor": "white",
          "plot_bgcolor": "#E5ECF6",
          "polar": {
           "angularaxis": {
            "gridcolor": "white",
            "linecolor": "white",
            "ticks": ""
           },
           "bgcolor": "#E5ECF6",
           "radialaxis": {
            "gridcolor": "white",
            "linecolor": "white",
            "ticks": ""
           }
          },
          "scene": {
           "xaxis": {
            "backgroundcolor": "#E5ECF6",
            "gridcolor": "white",
            "gridwidth": 2,
            "linecolor": "white",
            "showbackground": true,
            "ticks": "",
            "zerolinecolor": "white"
           },
           "yaxis": {
            "backgroundcolor": "#E5ECF6",
            "gridcolor": "white",
            "gridwidth": 2,
            "linecolor": "white",
            "showbackground": true,
            "ticks": "",
            "zerolinecolor": "white"
           },
           "zaxis": {
            "backgroundcolor": "#E5ECF6",
            "gridcolor": "white",
            "gridwidth": 2,
            "linecolor": "white",
            "showbackground": true,
            "ticks": "",
            "zerolinecolor": "white"
           }
          },
          "shapedefaults": {
           "line": {
            "color": "#2a3f5f"
           }
          },
          "ternary": {
           "aaxis": {
            "gridcolor": "white",
            "linecolor": "white",
            "ticks": ""
           },
           "baxis": {
            "gridcolor": "white",
            "linecolor": "white",
            "ticks": ""
           },
           "bgcolor": "#E5ECF6",
           "caxis": {
            "gridcolor": "white",
            "linecolor": "white",
            "ticks": ""
           }
          },
          "title": {
           "x": 0.05
          },
          "xaxis": {
           "automargin": true,
           "gridcolor": "white",
           "linecolor": "white",
           "ticks": "",
           "title": {
            "standoff": 15
           },
           "zerolinecolor": "white",
           "zerolinewidth": 2
          },
          "yaxis": {
           "automargin": true,
           "gridcolor": "white",
           "linecolor": "white",
           "ticks": "",
           "title": {
            "standoff": 15
           },
           "zerolinecolor": "white",
           "zerolinewidth": 2
          }
         }
        },
        "xaxis": {
         "anchor": "y",
         "domain": [
          0,
          1
         ],
         "title": {
          "text": "Year"
         }
        },
        "yaxis": {
         "anchor": "x",
         "domain": [
          0,
          1
         ],
         "range": [
          0,
          100
         ],
         "title": {
          "text": ""
         }
        }
       }
      }
     },
     "metadata": {},
     "output_type": "display_data"
    }
   ],
   "source": [
    "fig = make_subplots()\n",
    "# create traces for each stack\n",
    "for i, col in enumerate(df_top_dist.columns):\n",
    "    trace = go.Scatter(\n",
    "        x=df_top_dist.index, y=100 * df_top_dist[col], name=str(col), mode=\"lines\", stackgroup=\"one\"\n",
    "    )\n",
    "    fig.add_trace(trace)\n",
    "\n",
    "fig.update_layout(\n",
    "    xaxis_title=\"Year\",\n",
    "    yaxis_title=\"\",\n",
    "    yaxis_range=[0, 100],\n",
    "    showlegend=True,\n",
    "    legend=dict(orientation=\"h\", yanchor=\"bottom\", y=1.02, xanchor=\"right\", x=1),\n",
    ")\n",
    "\n",
    "fig.show()"
   ]
  }
 ],
 "metadata": {
  "kernelspec": {
   "display_name": "topic-modelling",
   "language": "python",
   "name": "python3"
  },
  "language_info": {
   "codemirror_mode": {
    "name": "ipython",
    "version": 3
   },
   "file_extension": ".py",
   "mimetype": "text/x-python",
   "name": "python",
   "nbconvert_exporter": "python",
   "pygments_lexer": "ipython3",
   "version": "3.11.2"
  },
  "orig_nbformat": 4,
  "vscode": {
   "interpreter": {
    "hash": "552ea279a7246a13e1dc6253e4d82b0e8f68a0910550cfb75a80fe35c4ac1e9b"
   }
  }
 },
 "nbformat": 4,
 "nbformat_minor": 2
}
